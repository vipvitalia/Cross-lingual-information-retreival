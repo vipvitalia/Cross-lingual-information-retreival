{
  "nbformat": 4,
  "nbformat_minor": 0,
  "metadata": {
    "colab": {
      "name": "Lab_2.ipynb",
      "provenance": [],
      "collapsed_sections": [
        "1qTPxIZxv8_T",
        "o8MPsokhrjsr",
        "P7BiaIIZwMBG",
        "p3sA39CovmsB",
        "87n-d4FFvut1",
        "2DwLIu6uyOQV",
        "l-WiINXT18uU",
        "nDQXAHfBq9dR",
        "doOU-cE5zRJC"
      ]
    },
    "kernelspec": {
      "name": "python3",
      "display_name": "Python 3"
    },
    "accelerator": "GPU"
  },
  "cells": [
    {
      "cell_type": "markdown",
      "metadata": {
        "id": "1qTPxIZxv8_T"
      },
      "source": [
        "### Imports"
      ]
    },
    {
      "cell_type": "code",
      "metadata": {
        "id": "Ts4_0FFCVQt7",
        "colab": {
          "base_uri": "https://localhost:8080/"
        },
        "outputId": "430f3958-0eb2-438c-e746-9307b54291e5"
      },
      "source": [
        "!pip install tensorflow_text\n",
        "!pip install bokeh\n",
        "!pip install simpleneighbors[annoy]\n",
        "!pip install tqdm"
      ],
      "execution_count": 1,
      "outputs": [
        {
          "output_type": "stream",
          "text": [
            "Collecting tensorflow_text\n",
            "\u001b[?25l  Downloading https://files.pythonhosted.org/packages/55/b8/5884204f7c2da639a3061fe3a0c41a06bb80bf7976fa7d407e1d628e38e9/tensorflow_text-2.4.2-cp36-cp36m-manylinux1_x86_64.whl (3.4MB)\n",
            "\u001b[K     |████████████████████████████████| 3.4MB 7.0MB/s \n",
            "\u001b[?25hRequirement already satisfied: tensorflow-hub>=0.8.0 in /usr/local/lib/python3.6/dist-packages (from tensorflow_text) (0.10.0)\n",
            "Requirement already satisfied: tensorflow<2.5,>=2.4.0 in /usr/local/lib/python3.6/dist-packages (from tensorflow_text) (2.4.0)\n",
            "Requirement already satisfied: protobuf>=3.8.0 in /usr/local/lib/python3.6/dist-packages (from tensorflow-hub>=0.8.0->tensorflow_text) (3.12.4)\n",
            "Requirement already satisfied: numpy>=1.12.0 in /usr/local/lib/python3.6/dist-packages (from tensorflow-hub>=0.8.0->tensorflow_text) (1.19.4)\n",
            "Requirement already satisfied: astunparse~=1.6.3 in /usr/local/lib/python3.6/dist-packages (from tensorflow<2.5,>=2.4.0->tensorflow_text) (1.6.3)\n",
            "Requirement already satisfied: google-pasta~=0.2 in /usr/local/lib/python3.6/dist-packages (from tensorflow<2.5,>=2.4.0->tensorflow_text) (0.2.0)\n",
            "Requirement already satisfied: keras-preprocessing~=1.1.2 in /usr/local/lib/python3.6/dist-packages (from tensorflow<2.5,>=2.4.0->tensorflow_text) (1.1.2)\n",
            "Requirement already satisfied: flatbuffers~=1.12.0 in /usr/local/lib/python3.6/dist-packages (from tensorflow<2.5,>=2.4.0->tensorflow_text) (1.12)\n",
            "Requirement already satisfied: termcolor~=1.1.0 in /usr/local/lib/python3.6/dist-packages (from tensorflow<2.5,>=2.4.0->tensorflow_text) (1.1.0)\n",
            "Requirement already satisfied: tensorboard~=2.4 in /usr/local/lib/python3.6/dist-packages (from tensorflow<2.5,>=2.4.0->tensorflow_text) (2.4.0)\n",
            "Requirement already satisfied: six~=1.15.0 in /usr/local/lib/python3.6/dist-packages (from tensorflow<2.5,>=2.4.0->tensorflow_text) (1.15.0)\n",
            "Requirement already satisfied: gast==0.3.3 in /usr/local/lib/python3.6/dist-packages (from tensorflow<2.5,>=2.4.0->tensorflow_text) (0.3.3)\n",
            "Requirement already satisfied: tensorflow-estimator<2.5.0,>=2.4.0rc0 in /usr/local/lib/python3.6/dist-packages (from tensorflow<2.5,>=2.4.0->tensorflow_text) (2.4.0)\n",
            "Requirement already satisfied: opt-einsum~=3.3.0 in /usr/local/lib/python3.6/dist-packages (from tensorflow<2.5,>=2.4.0->tensorflow_text) (3.3.0)\n",
            "Requirement already satisfied: grpcio~=1.32.0 in /usr/local/lib/python3.6/dist-packages (from tensorflow<2.5,>=2.4.0->tensorflow_text) (1.32.0)\n",
            "Requirement already satisfied: wheel~=0.35 in /usr/local/lib/python3.6/dist-packages (from tensorflow<2.5,>=2.4.0->tensorflow_text) (0.36.2)\n",
            "Requirement already satisfied: h5py~=2.10.0 in /usr/local/lib/python3.6/dist-packages (from tensorflow<2.5,>=2.4.0->tensorflow_text) (2.10.0)\n",
            "Requirement already satisfied: typing-extensions~=3.7.4 in /usr/local/lib/python3.6/dist-packages (from tensorflow<2.5,>=2.4.0->tensorflow_text) (3.7.4.3)\n",
            "Requirement already satisfied: absl-py~=0.10 in /usr/local/lib/python3.6/dist-packages (from tensorflow<2.5,>=2.4.0->tensorflow_text) (0.10.0)\n",
            "Requirement already satisfied: wrapt~=1.12.1 in /usr/local/lib/python3.6/dist-packages (from tensorflow<2.5,>=2.4.0->tensorflow_text) (1.12.1)\n",
            "Requirement already satisfied: setuptools in /usr/local/lib/python3.6/dist-packages (from protobuf>=3.8.0->tensorflow-hub>=0.8.0->tensorflow_text) (51.0.0)\n",
            "Requirement already satisfied: tensorboard-plugin-wit>=1.6.0 in /usr/local/lib/python3.6/dist-packages (from tensorboard~=2.4->tensorflow<2.5,>=2.4.0->tensorflow_text) (1.7.0)\n",
            "Requirement already satisfied: werkzeug>=0.11.15 in /usr/local/lib/python3.6/dist-packages (from tensorboard~=2.4->tensorflow<2.5,>=2.4.0->tensorflow_text) (1.0.1)\n",
            "Requirement already satisfied: markdown>=2.6.8 in /usr/local/lib/python3.6/dist-packages (from tensorboard~=2.4->tensorflow<2.5,>=2.4.0->tensorflow_text) (3.3.3)\n",
            "Requirement already satisfied: google-auth-oauthlib<0.5,>=0.4.1 in /usr/local/lib/python3.6/dist-packages (from tensorboard~=2.4->tensorflow<2.5,>=2.4.0->tensorflow_text) (0.4.2)\n",
            "Requirement already satisfied: google-auth<2,>=1.6.3 in /usr/local/lib/python3.6/dist-packages (from tensorboard~=2.4->tensorflow<2.5,>=2.4.0->tensorflow_text) (1.17.2)\n",
            "Requirement already satisfied: requests<3,>=2.21.0 in /usr/local/lib/python3.6/dist-packages (from tensorboard~=2.4->tensorflow<2.5,>=2.4.0->tensorflow_text) (2.23.0)\n",
            "Requirement already satisfied: importlib-metadata; python_version < \"3.8\" in /usr/local/lib/python3.6/dist-packages (from markdown>=2.6.8->tensorboard~=2.4->tensorflow<2.5,>=2.4.0->tensorflow_text) (3.3.0)\n",
            "Requirement already satisfied: requests-oauthlib>=0.7.0 in /usr/local/lib/python3.6/dist-packages (from google-auth-oauthlib<0.5,>=0.4.1->tensorboard~=2.4->tensorflow<2.5,>=2.4.0->tensorflow_text) (1.3.0)\n",
            "Requirement already satisfied: cachetools<5.0,>=2.0.0 in /usr/local/lib/python3.6/dist-packages (from google-auth<2,>=1.6.3->tensorboard~=2.4->tensorflow<2.5,>=2.4.0->tensorflow_text) (4.2.0)\n",
            "Requirement already satisfied: rsa<5,>=3.1.4; python_version >= \"3\" in /usr/local/lib/python3.6/dist-packages (from google-auth<2,>=1.6.3->tensorboard~=2.4->tensorflow<2.5,>=2.4.0->tensorflow_text) (4.6)\n",
            "Requirement already satisfied: pyasn1-modules>=0.2.1 in /usr/local/lib/python3.6/dist-packages (from google-auth<2,>=1.6.3->tensorboard~=2.4->tensorflow<2.5,>=2.4.0->tensorflow_text) (0.2.8)\n",
            "Requirement already satisfied: certifi>=2017.4.17 in /usr/local/lib/python3.6/dist-packages (from requests<3,>=2.21.0->tensorboard~=2.4->tensorflow<2.5,>=2.4.0->tensorflow_text) (2020.12.5)\n",
            "Requirement already satisfied: urllib3!=1.25.0,!=1.25.1,<1.26,>=1.21.1 in /usr/local/lib/python3.6/dist-packages (from requests<3,>=2.21.0->tensorboard~=2.4->tensorflow<2.5,>=2.4.0->tensorflow_text) (1.24.3)\n",
            "Requirement already satisfied: idna<3,>=2.5 in /usr/local/lib/python3.6/dist-packages (from requests<3,>=2.21.0->tensorboard~=2.4->tensorflow<2.5,>=2.4.0->tensorflow_text) (2.10)\n",
            "Requirement already satisfied: chardet<4,>=3.0.2 in /usr/local/lib/python3.6/dist-packages (from requests<3,>=2.21.0->tensorboard~=2.4->tensorflow<2.5,>=2.4.0->tensorflow_text) (3.0.4)\n",
            "Requirement already satisfied: zipp>=0.5 in /usr/local/lib/python3.6/dist-packages (from importlib-metadata; python_version < \"3.8\"->markdown>=2.6.8->tensorboard~=2.4->tensorflow<2.5,>=2.4.0->tensorflow_text) (3.4.0)\n",
            "Requirement already satisfied: oauthlib>=3.0.0 in /usr/local/lib/python3.6/dist-packages (from requests-oauthlib>=0.7.0->google-auth-oauthlib<0.5,>=0.4.1->tensorboard~=2.4->tensorflow<2.5,>=2.4.0->tensorflow_text) (3.1.0)\n",
            "Requirement already satisfied: pyasn1>=0.1.3 in /usr/local/lib/python3.6/dist-packages (from rsa<5,>=3.1.4; python_version >= \"3\"->google-auth<2,>=1.6.3->tensorboard~=2.4->tensorflow<2.5,>=2.4.0->tensorflow_text) (0.4.8)\n",
            "Installing collected packages: tensorflow-text\n",
            "Successfully installed tensorflow-text-2.4.2\n",
            "Requirement already satisfied: bokeh in /usr/local/lib/python3.6/dist-packages (2.1.1)\n",
            "Requirement already satisfied: tornado>=5.1 in /usr/local/lib/python3.6/dist-packages (from bokeh) (5.1.1)\n",
            "Requirement already satisfied: packaging>=16.8 in /usr/local/lib/python3.6/dist-packages (from bokeh) (20.8)\n",
            "Requirement already satisfied: python-dateutil>=2.1 in /usr/local/lib/python3.6/dist-packages (from bokeh) (2.8.1)\n",
            "Requirement already satisfied: Jinja2>=2.7 in /usr/local/lib/python3.6/dist-packages (from bokeh) (2.11.2)\n",
            "Requirement already satisfied: typing-extensions>=3.7.4 in /usr/local/lib/python3.6/dist-packages (from bokeh) (3.7.4.3)\n",
            "Requirement already satisfied: PyYAML>=3.10 in /usr/local/lib/python3.6/dist-packages (from bokeh) (3.13)\n",
            "Requirement already satisfied: pillow>=4.0 in /usr/local/lib/python3.6/dist-packages (from bokeh) (7.0.0)\n",
            "Requirement already satisfied: numpy>=1.11.3 in /usr/local/lib/python3.6/dist-packages (from bokeh) (1.19.4)\n",
            "Requirement already satisfied: pyparsing>=2.0.2 in /usr/local/lib/python3.6/dist-packages (from packaging>=16.8->bokeh) (2.4.7)\n",
            "Requirement already satisfied: six>=1.5 in /usr/local/lib/python3.6/dist-packages (from python-dateutil>=2.1->bokeh) (1.15.0)\n",
            "Requirement already satisfied: MarkupSafe>=0.23 in /usr/local/lib/python3.6/dist-packages (from Jinja2>=2.7->bokeh) (1.1.1)\n",
            "Collecting simpleneighbors[annoy]\n",
            "  Downloading https://files.pythonhosted.org/packages/f9/10/9092e15d9aa4a9e5a263416121f124e565766767e7866e11d7074ec50df5/simpleneighbors-0.1.0-py2.py3-none-any.whl\n",
            "Collecting annoy>=1.16.0; extra == \"annoy\"\n",
            "\u001b[?25l  Downloading https://files.pythonhosted.org/packages/a1/5b/1c22129f608b3f438713b91cd880dc681d747a860afe3e8e0af86e921942/annoy-1.17.0.tar.gz (646kB)\n",
            "\u001b[K     |████████████████████████████████| 655kB 5.2MB/s \n",
            "\u001b[?25hBuilding wheels for collected packages: annoy\n",
            "  Building wheel for annoy (setup.py) ... \u001b[?25l\u001b[?25hdone\n",
            "  Created wheel for annoy: filename=annoy-1.17.0-cp36-cp36m-linux_x86_64.whl size=390344 sha256=ff590aef677756a5a882b6a2d77e93b102adcdd82e0c98defea2c88e341831dd\n",
            "  Stored in directory: /root/.cache/pip/wheels/3a/c5/59/cce7e67b52c8e987389e53f917b6bb2a9d904a03246fadcb1e\n",
            "Successfully built annoy\n",
            "Installing collected packages: annoy, simpleneighbors\n",
            "Successfully installed annoy-1.17.0 simpleneighbors-0.1.0\n",
            "Requirement already satisfied: tqdm in /usr/local/lib/python3.6/dist-packages (4.41.1)\n"
          ],
          "name": "stdout"
        }
      ]
    },
    {
      "cell_type": "code",
      "metadata": {
        "id": "W4hMUf_4VXFc"
      },
      "source": [
        "import bokeh\n",
        "import bokeh.models\n",
        "import bokeh.plotting\n",
        "import numpy as np\n",
        "import os\n",
        "import random as r\n",
        "import pandas as pd\n",
        "import tensorflow.compat.v2 as tf\n",
        "import tensorflow as tf1\n",
        "import tensorflow_hub as hub\n",
        "from tensorflow_text import SentencepieceTokenizer\n",
        "from simpleneighbors import SimpleNeighbors\n",
        "from tqdm import tqdm\n",
        "from tqdm import trange\n",
        "import xml.etree.ElementTree as ET\n",
        "from sklearn.metrics.pairwise import cosine_similarity\n",
        "import matplotlib.pyplot as plt"
      ],
      "execution_count": 92,
      "outputs": []
    },
    {
      "cell_type": "code",
      "metadata": {
        "id": "TSgggvitViXA"
      },
      "source": [
        "module_url = 'https://tfhub.dev/google/universal-sentence-encoder-multilingual/3' \n",
        "\n",
        "model = hub.load(module_url)\n",
        "\n",
        "def embed_text(input):\n",
        "  return model(input).numpy()"
      ],
      "execution_count": 3,
      "outputs": []
    },
    {
      "cell_type": "code",
      "metadata": {
        "id": "mCyPwFnl-eMv"
      },
      "source": [
        "lang_list = ['de','en','es','fr','it','nl','pl','pt']"
      ],
      "execution_count": 4,
      "outputs": []
    },
    {
      "cell_type": "markdown",
      "metadata": {
        "id": "o8MPsokhrjsr"
      },
      "source": [
        "### Load titles"
      ]
    },
    {
      "cell_type": "code",
      "metadata": {
        "id": "XlqlM-FtWeca",
        "colab": {
          "base_uri": "https://localhost:8080/"
        },
        "outputId": "2b996f1c-5393-444a-a11f-e41d85d2a255"
      },
      "source": [
        "language_to_sentences = {}\n",
        "language_to_news_path = {}\n",
        "\n",
        "for language_code in lang_list: \n",
        "\n",
        "  base_path = '/content/drive/MyDrive/corpus/title.'\n",
        "  news_path = base_path + language_code\n",
        "  language_to_sentences[language_code] = pd.read_csv(news_path, sep='\\t', header=None)[0]\n",
        "  language_to_news_path[language_code] = news_path\n",
        "\n",
        "  print('{:,} {} sentences'.format(len(language_to_sentences[language_code]), language_code))"
      ],
      "execution_count": 5,
      "outputs": [
        {
          "output_type": "stream",
          "text": [
            "98 de sentences\n",
            "98 en sentences\n",
            "96 es sentences\n",
            "98 fr sentences\n",
            "99 it sentences\n",
            "98 nl sentences\n",
            "101 pl sentences\n",
            "96 pt sentences\n"
          ],
          "name": "stdout"
        }
      ]
    },
    {
      "cell_type": "code",
      "metadata": {
        "id": "lySySB9FQfn-",
        "colab": {
          "base_uri": "https://localhost:8080/"
        },
        "outputId": "6d9d5b17-2a34-41f8-bab7-b28aba7630ae"
      },
      "source": [
        "language_to_sentences"
      ],
      "execution_count": null,
      "outputs": [
        {
          "output_type": "execute_result",
          "data": {
            "text/plain": [
              "{'de': 0                                                 title\n",
              " 1     'EAG Rat: Verordnung Nr. 3 zur Anwendung des A...\n",
              " 2     'EWG Rat: Verordnung Nr. 1 zur Regelung der Sp...\n",
              " 3     'Entscheidung über die Gründung des \"Amtsblatt...\n",
              " 4     'EAG Rat: Satzung der Euratom-Versorgungsagentur'\n",
              "                             ...                        \n",
              " 93    'Richtlinie 70/222/EWG des Rates vom 20. März ...\n",
              " 94    'Verordnung (EWG) Nr. 538/70 der Kommission vo...\n",
              " 95    'Richtlinie 70/388/EWG des Rates vom 27. Juli ...\n",
              " 96    'Richtlinie 70/50/EWG der Kommission vom 22. D...\n",
              " 97    'Verordnung (EWG) Nr. 1467/70 des Rates vom 20...\n",
              " Name: 0, Length: 98, dtype: object,\n",
              " 'en': 0                                                 title\n",
              " 1     \"Decision creating the 'Official Journal of th...\n",
              " 2     'EAEC Council: The Statutes of the Euratom Sup...\n",
              " 3     'EEC Council: Regulation No 1 determining the ...\n",
              " 4     'EAEC Council: Regulation No 3 implementing Ar...\n",
              "                             ...                        \n",
              " 93    'Council Directive 70/358/EEC of 13 July 1970 ...\n",
              " 94    'Council Directive 70/157/EEC of 6 February 19...\n",
              " 95                                         '70/244/ECSC\n",
              " 96    'Council Directive 70/221/EEC of 20 March 1970...\n",
              " 97    'Regulation (EEC) No 537/70 of the Commission ...\n",
              " Name: 0, Length: 98, dtype: object,\n",
              " 'es': 0                                                 title\n",
              " 1     'Reglamento nº 1 por el que se fija el régimen...\n",
              " 2     'Reglamento nº3 relativo a la aplicación del a...\n",
              " 3     'Estatutos de la Agencia de Abastecimiento de ...\n",
              " 4     'Reglamento n° 26 del Consejo sobre aplicación...\n",
              "                             ...                        \n",
              " 91             'Reglamento (CEE) nº 1107/70 del Consejo\n",
              " 92                    'Directiva 70/373/CEE del Consejo\n",
              " 93          'Reglamento (CEE) n° 2665/70 de la Comisión\n",
              " 94             'Reglamento (CEE) n° 1253/70 del Consejo\n",
              " 95                    'Directiva 70/156/CEE del Consejo\n",
              " Name: 0, Length: 96, dtype: object,\n",
              " 'fr': 0                                                 title\n",
              " 1     'Décision portant création du «Journal officie...\n",
              " 2     \"CEEA Conseil: Statuts de l'Agence d'approvisi...\n",
              " 3     \"CEEA Conseil: Règlement n° 3 portant applicat...\n",
              " 4     'CEE Conseil: Règlement n° 1 portant fixation ...\n",
              "                             ...                        \n",
              " 93               'Règlement (CEE) n° 1108/70 du Conseil\n",
              " 94                     \"Directive 70/358/CEE du Conseil\n",
              " 95         \"Règlement (CEE) n° 2598/70 de la Commission\n",
              " 96                                         '70/244/CECA\n",
              " 97                     \"Directive 70/157/CEE du Conseil\n",
              " Name: 0, Length: 98, dtype: object,\n",
              " 'it': 0                                                 title\n",
              " 1     \"CEEA Consiglio: Regolamento n. 3 relativo all...\n",
              " 2     'CEE Consiglio: Regolamento n. 1 che stabilisc...\n",
              " 3     \"Decisione relativa all'istituzione della «Gaz...\n",
              " 4     \"CEEA Consiglio: Statuto dell'agenzia di appro...\n",
              "                             ...                        \n",
              " 94                  \"Direttiva 70/222/CEE del Consiglio\n",
              " 95       \"Regolamento (CEE) n. 538/70 della Commissione\n",
              " 96          \"Regolamento (CEE) n. 1467/70 del Consiglio\n",
              " 97               \"Direttiva 70/50/CEE della Commissione\n",
              " 98    'Direttiva 70/388/CEE del Consiglio del 27 lug...\n",
              " Name: 0, Length: 99, dtype: object,\n",
              " 'nl': 0                                                 title\n",
              " 1     'EGA Raad: Statuten van het Voorzieningsagents...\n",
              " 2     'BESLUIT tot oprichting van het \"Publikatiebla...\n",
              " 3     'EGA Raad: Verordening Nº3 ter toepassing van ...\n",
              " 4     'EEG Raad: Verordening nr. 1 tot regeling van ...\n",
              "                             ...                        \n",
              " 93    'Verordening (EEG) nr. 537/70 van de Commissie...\n",
              " 94    'Richtlijn 70/387/EEG van de Raad van 27 juli ...\n",
              " 95    \"Verordening (EEG) nr. 2598/70 van de Commissi...\n",
              " 96    'Richtlijn 70/358/EEG van de Raad van 13 juli ...\n",
              " 97    'Verordening (EEG) nr. 1108/70 van de Raad van...\n",
              " Name: 0, Length: 98, dtype: object,\n",
              " 'pl': 0                                   title\n",
              " 1      'JRC-ACQUIS 31958D1006(01) Polish'\n",
              " 2          'JRC-ACQUIS 31958Q1101 Polish'\n",
              " 3      'JRC-ACQUIS 31958D1006(02) Polish'\n",
              " 4          'JRC-ACQUIS 31958R0001 Polish'\n",
              "                       ...                \n",
              " 96         'JRC-ACQUIS 31970L0157 Polish'\n",
              " 97         'JRC-ACQUIS 31970D0244 Polish'\n",
              " 98         'JRC-ACQUIS 31970R2598 Polish'\n",
              " 99         'JRC-ACQUIS 31970R1108 Polish'\n",
              " 100        'JRC-ACQUIS 31970L0358 Polish'\n",
              " Name: 0, Length: 101, dtype: object,\n",
              " 'pt': 0                                                 title\n",
              " 1     'Regulamento nº 3 que aplica o artigo 24º do T...\n",
              " 2     'Regulamento nº 1 que estabelece o regime ling...\n",
              " 3     'Estatutos da Agência de Aprovisionamento da E...\n",
              " 4     'Regulamento nº 26 relativo à aplicação de det...\n",
              "                             ...                        \n",
              " 91                        'Regulamento (CEE) nº 1107/70\n",
              " 92                    'Directiva 70/373/CEE do Conselho\n",
              " 93    'Acordo complementar ao Acordo relativo aos Pr...\n",
              " 94                    'Directiva 70/387/CEE do Conselho\n",
              " 95                    'Directiva 70/221/CEE do Conselho\n",
              " Name: 0, Length: 96, dtype: object}"
            ]
          },
          "metadata": {
            "tags": []
          },
          "execution_count": 53
        }
      ]
    },
    {
      "cell_type": "markdown",
      "metadata": {
        "id": "P7BiaIIZwMBG"
      },
      "source": [
        "###Load texts"
      ]
    },
    {
      "cell_type": "code",
      "metadata": {
        "colab": {
          "base_uri": "https://localhost:8080/"
        },
        "id": "QH816AwGwPeJ",
        "outputId": "1725bd67-7f4c-4a26-bdad-9ee83ca794d2"
      },
      "source": [
        "language_to_sentences_text = {}\n",
        "language_to_news_path_text = {}\n",
        "\n",
        "for language_code in lang_list: \n",
        "\n",
        "  base_path = '/content/drive/MyDrive/corpus/text.'\n",
        "  news_path = base_path + language_code\n",
        "  language_to_sentences_text[language_code] = pd.read_csv(news_path, sep='\\t', header=None)[0]\n",
        "  language_to_news_path_text[language_code] = news_path\n",
        "\n",
        "  print('{:,} {} texts'.format(len(language_to_sentences_text[language_code]), language_code))"
      ],
      "execution_count": 6,
      "outputs": [
        {
          "output_type": "stream",
          "text": [
            "1,001 de texts\n",
            "1,001 en texts\n",
            "1,001 es texts\n",
            "1,001 fr texts\n",
            "1,001 it texts\n",
            "1,001 nl texts\n",
            "1,001 pl texts\n",
            "1,001 pt texts\n"
          ],
          "name": "stdout"
        }
      ]
    },
    {
      "cell_type": "code",
      "metadata": {
        "colab": {
          "base_uri": "https://localhost:8080/"
        },
        "id": "e0pnTLcDxI_J",
        "outputId": "f1feea6d-a459-41c4-c8cb-5e52bd57e6f9"
      },
      "source": [
        "language_to_sentences_text"
      ],
      "execution_count": null,
      "outputs": [
        {
          "output_type": "execute_result",
          "data": {
            "text/plain": [
              "{'de': 0                                                    text\n",
              " 1                     von dem es seine Rechte herleitet.'\n",
              " 2                           insbesondere auf Artikel 43,'\n",
              " 3                             von Einzelbetrieben stammen\n",
              " 4                                      'S : 37-65-71-103'\n",
              "                               ...                        \n",
              " 996     so daß sich ihre Koordinierung gegenüber allen...\n",
              " 997     daß sie eine beherrschende Stellung auf dem ge...\n",
              " 998     '(1) Es wird ein Verwaltungsausschuß für leben...\n",
              " 999     soll ab 1. November 1962 für Rindfleisch angew...\n",
              " 1000                    hier der Handel mit Frischfleisch\n",
              " Name: 0, Length: 1001, dtype: object,\n",
              " 'en': 0                                                    text\n",
              " 1       '(m) %quot%compulsorily notifiable diseases%qu...\n",
              " 2       '1. Officially supervised tuberculin tests mus...\n",
              " 3       in order to ensure certainty in the law as reg...\n",
              " 4       i.e. they must contain 100 000 international u...\n",
              "                               ...                        \n",
              " 996                            if the breeder so requests\n",
              " 997     satisfies the conditions laid down in Annexes ...\n",
              " 998     that burden may be estimated at a standard rat...\n",
              " 999     a Member State is of the opinion that a questi...\n",
              " 1000    'When taking up their duties members of the Co...\n",
              " Name: 0, Length: 1001, dtype: object,\n",
              " 'es': 0                                                    text\n",
              " 1       'Considerando que es conveniente ofrecer a los...\n",
              " 2                                 'C . Acondicionamiento'\n",
              " 3                                       la Comisión debe \n",
              " 4                      a un examen de conjunto que verse \n",
              "                               ...                        \n",
              " 996                            al calcular el precio cif \n",
              " 997                                   mediante su acción \n",
              " 998                                                  e ) \n",
              " 999                  en principio antes del 1 de febrero \n",
              " 1000    pero que pueda utilizarse con fines industrial...\n",
              " Name: 0, Length: 1001, dtype: object,\n",
              " 'fr': 0                                                    text\n",
              " 1       les vérifications doivent être effectuées uniq...\n",
              " 2       qui constitue une partie essentielle de leurs ...\n",
              " 3                                                Ribes L.\n",
              " 4       avoir été traitées après l'abattage dans des c...\n",
              "                               ...                        \n",
              " 996                          et notamment leur titre II,\"\n",
              " 997     \"1. L'article 2 devient l'article 2 paragraphe...\n",
              " 998     cette aide est égale à la différence entre ces...\n",
              " 999     \"c) Viscères : les abats qui se trouvent dans ...\n",
              " 1000                    C 10 CM 10-11; 11-12; 12 ET PLUS'\n",
              " Name: 0, Length: 1001, dtype: object,\n",
              " 'it': 0                                                    text\n",
              " 1                                                 FEGATO \n",
              " 2                                            'Articolo 8'\n",
              " 3       ogni qualvolta sia trascorso un trimestre dall...\n",
              " 4                                          DELLA LARINGE \n",
              "                               ...                        \n",
              " 996     CON I MEZZI PERMANENTI ATTI A PERMETTERE UN MI...\n",
              " 997                                         \"In ogni caso\n",
              " 998     \"considerando che le aziende ferroviarie soppo...\n",
              " 999                              BAGNI ELETTRO-GALVANICI \n",
              " 1000                                       \"2 . Tuttavia \n",
              " Name: 0, Length: 1001, dtype: object,\n",
              " 'nl': 0                                                    text\n",
              " 1                                   'FIG . 3 : zie P.b .'\n",
              " 2       'Overwegende dat het wenselijk is de eigenaar ...\n",
              " 3       '1. Binnen een termijn van zes maanden volgend...\n",
              " 4       bedoelde compenserende bedragen worden beschou...\n",
              "                               ...                        \n",
              " 996                                                stier \n",
              " 997     waaruit blijkt dat het op de intradermale tube...\n",
              " 998     berekend op basis van Mn3 O4 : niet meer dan 8...\n",
              " 999     moeten de in bijlage I genoemde kleurstoffen a...\n",
              " 1000                                         'Artikel 10'\n",
              " Name: 0, Length: 1001, dtype: object,\n",
              " 'pl': 0                                                    text\n",
              " 1                                                       B\n",
              " 2                                                prunelek\n",
              " 3                              'Sporządzono w Luksemburgu\n",
              " 4                                             'Artykuł 7'\n",
              "                               ...                        \n",
              " 996     'Budownictwo i montaż powiązany lub sam montaż...\n",
              " 997                    C | 3 cm | 3–4; 4–5; 5 i więcej |'\n",
              " 998     ani jakichkolwiek środków służących realizacji...\n",
              " 999     'Urzędnik kierujący określonym działem służby ...\n",
              " 1000    dla których data teoretyczna przypada pomiędzy...\n",
              " Name: 0, Length: 1001, dtype: object,\n",
              " 'pt': 0                                                    text\n",
              " 1       para permitir aos interessados apreciar as raz...\n",
              " 2                                           antes de tudo\n",
              " 3       'Considerando que os seguintes princípios gera...\n",
              " 4                                             'Artigo 9o'\n",
              "                               ...                        \n",
              " 996                                 'POSIÇÃO NUMA TABELA'\n",
              " 997               'O CONSELHO DAS COMUNIDADES EUROPEIAS,'\n",
              " 998      '1. A fim de evitar uma acumulação inútil de CSE\n",
              " 999     o jogo de crivos é fechado na parte inferior e...\n",
              " 1000             '5. Relativamente às espécies alogâmicas\n",
              " Name: 0, Length: 1001, dtype: object}"
            ]
          },
          "metadata": {
            "tags": []
          },
          "execution_count": 77
        }
      ]
    },
    {
      "cell_type": "markdown",
      "metadata": {
        "id": "p3sA39CovmsB"
      },
      "source": [
        "### Create text files for each language"
      ]
    },
    {
      "cell_type": "code",
      "metadata": {
        "id": "SZdxbk7apv6B"
      },
      "source": [
        "df = pd.read_csv('/content/drive/MyDrive/corpus/data.csv')"
      ],
      "execution_count": null,
      "outputs": []
    },
    {
      "cell_type": "code",
      "metadata": {
        "colab": {
          "base_uri": "https://localhost:8080/",
          "height": 201
        },
        "id": "xOzg6FtRq6rs",
        "outputId": "db0b9168-584c-4606-ff35-2b2c2ceba597"
      },
      "source": [
        "df = df.drop(columns=['Unnamed: 0'])\n",
        "df.head()"
      ],
      "execution_count": null,
      "outputs": [
        {
          "output_type": "execute_result",
          "data": {
            "text/html": [
              "<div>\n",
              "<style scoped>\n",
              "    .dataframe tbody tr th:only-of-type {\n",
              "        vertical-align: middle;\n",
              "    }\n",
              "\n",
              "    .dataframe tbody tr th {\n",
              "        vertical-align: top;\n",
              "    }\n",
              "\n",
              "    .dataframe thead th {\n",
              "        text-align: right;\n",
              "    }\n",
              "</style>\n",
              "<table border=\"1\" class=\"dataframe\">\n",
              "  <thead>\n",
              "    <tr style=\"text-align: right;\">\n",
              "      <th></th>\n",
              "      <th>language</th>\n",
              "      <th>title</th>\n",
              "      <th>text</th>\n",
              "    </tr>\n",
              "  </thead>\n",
              "  <tbody>\n",
              "    <tr>\n",
              "      <th>0</th>\n",
              "      <td>de</td>\n",
              "      <td>['JRC-ACQUIS 31958R0003(01) German', 'EAG Rat:...</td>\n",
              "      <td>['VERORDNUNG Nr. 3 zur Anwendung des Artikels ...</td>\n",
              "    </tr>\n",
              "    <tr>\n",
              "      <th>1</th>\n",
              "      <td>de</td>\n",
              "      <td>['JRC-ACQUIS 31958R0001 German', 'EWG Rat: Ver...</td>\n",
              "      <td>['EUROPÄISCHE WIRTSCHAFTSGEMEINSCHAFT DER RAT ...</td>\n",
              "    </tr>\n",
              "    <tr>\n",
              "      <th>2</th>\n",
              "      <td>de</td>\n",
              "      <td>['JRC-ACQUIS 31958D1006(02) German', 'Entschei...</td>\n",
              "      <td>['ENTSCHEIDUNG über die Gründung des %quot%Amt...</td>\n",
              "    </tr>\n",
              "    <tr>\n",
              "      <th>3</th>\n",
              "      <td>de</td>\n",
              "      <td>['JRC-ACQUIS 31958Q1101 German', 'EAG Rat: Sat...</td>\n",
              "      <td>['SATZUNG DER EURATOM-VERSORGUNGSAGENTUR', 'DE...</td>\n",
              "    </tr>\n",
              "    <tr>\n",
              "      <th>4</th>\n",
              "      <td>de</td>\n",
              "      <td>['JRC-ACQUIS 31958D1006(01) German', 'ENTSCHEI...</td>\n",
              "      <td>['ENTSCHEIDUNG über die Gründung des Amtsblatt...</td>\n",
              "    </tr>\n",
              "  </tbody>\n",
              "</table>\n",
              "</div>"
            ],
            "text/plain": [
              "  language  ...                                               text\n",
              "0       de  ...  ['VERORDNUNG Nr. 3 zur Anwendung des Artikels ...\n",
              "1       de  ...  ['EUROPÄISCHE WIRTSCHAFTSGEMEINSCHAFT DER RAT ...\n",
              "2       de  ...  ['ENTSCHEIDUNG über die Gründung des %quot%Amt...\n",
              "3       de  ...  ['SATZUNG DER EURATOM-VERSORGUNGSAGENTUR', 'DE...\n",
              "4       de  ...  ['ENTSCHEIDUNG über die Gründung des Amtsblatt...\n",
              "\n",
              "[5 rows x 3 columns]"
            ]
          },
          "metadata": {
            "tags": []
          },
          "execution_count": 5
        }
      ]
    },
    {
      "cell_type": "code",
      "metadata": {
        "colab": {
          "base_uri": "https://localhost:8080/",
          "height": 201
        },
        "id": "ywlpB52iYM44",
        "outputId": "55b2d9f5-ab03-497a-a0ba-55fd6dcc712a"
      },
      "source": [
        "df.tail()"
      ],
      "execution_count": null,
      "outputs": [
        {
          "output_type": "execute_result",
          "data": {
            "text/html": [
              "<div>\n",
              "<style scoped>\n",
              "    .dataframe tbody tr th:only-of-type {\n",
              "        vertical-align: middle;\n",
              "    }\n",
              "\n",
              "    .dataframe tbody tr th {\n",
              "        vertical-align: top;\n",
              "    }\n",
              "\n",
              "    .dataframe thead th {\n",
              "        text-align: right;\n",
              "    }\n",
              "</style>\n",
              "<table border=\"1\" class=\"dataframe\">\n",
              "  <thead>\n",
              "    <tr style=\"text-align: right;\">\n",
              "      <th></th>\n",
              "      <th>language</th>\n",
              "      <th>title</th>\n",
              "      <th>text</th>\n",
              "    </tr>\n",
              "  </thead>\n",
              "  <tbody>\n",
              "    <tr>\n",
              "      <th>188257</th>\n",
              "      <td>pt</td>\n",
              "      <td>['JRC-ACQUIS C2006/154/49 Portuguese', 'Proces...</td>\n",
              "      <td>['Acção intentada em 28 de Abril de 2006 — Hel...</td>\n",
              "    </tr>\n",
              "    <tr>\n",
              "      <th>188258</th>\n",
              "      <td>pt</td>\n",
              "      <td>['JRC-ACQUIS C2006/178/80 Portuguese', 'Proces...</td>\n",
              "      <td>['Recurso interposto em 16 de Junho de 2006 — ...</td>\n",
              "    </tr>\n",
              "    <tr>\n",
              "      <th>188259</th>\n",
              "      <td>pt</td>\n",
              "      <td>['JRC-ACQUIS C2006/011/05 Portuguese', 'Não op...</td>\n",
              "      <td>['Não oposição a uma concentração notificada',...</td>\n",
              "    </tr>\n",
              "    <tr>\n",
              "      <th>188260</th>\n",
              "      <td>pt</td>\n",
              "      <td>['JRC-ACQUIS C2006/108/06 Portuguese', 'Proces...</td>\n",
              "      <td>['Recurso interposto em 15 de Fevereiro de 200...</td>\n",
              "    </tr>\n",
              "    <tr>\n",
              "      <th>188261</th>\n",
              "      <td>pt</td>\n",
              "      <td>['JRC-ACQUIS 52006PC0472 Portuguese']</td>\n",
              "      <td>['PT', 'Bruxelas, 30.8.2006', 'COM(2006) 472 f...</td>\n",
              "    </tr>\n",
              "  </tbody>\n",
              "</table>\n",
              "</div>"
            ],
            "text/plain": [
              "       language  ...                                               text\n",
              "188257       pt  ...  ['Acção intentada em 28 de Abril de 2006 — Hel...\n",
              "188258       pt  ...  ['Recurso interposto em 16 de Junho de 2006 — ...\n",
              "188259       pt  ...  ['Não oposição a uma concentração notificada',...\n",
              "188260       pt  ...  ['Recurso interposto em 15 de Fevereiro de 200...\n",
              "188261       pt  ...  ['PT', 'Bruxelas, 30.8.2006', 'COM(2006) 472 f...\n",
              "\n",
              "[5 rows x 3 columns]"
            ]
          },
          "metadata": {
            "tags": []
          },
          "execution_count": 6
        }
      ]
    },
    {
      "cell_type": "code",
      "metadata": {
        "id": "vzQkRsqoXrsI"
      },
      "source": [
        "for lang in lang_list:\n",
        "  small_df = df[df['language']== lang][:100]\n",
        "  \n",
        "  for i,row in small_df.iterrows():\n",
        "\n",
        "    lis = row['title'].strip('][').split(', ')\n",
        "    if len(lis)>1:\n",
        "      title = lis[1]\n",
        "    else:\n",
        "      title = lis[0]\n",
        "    \n",
        "    for text in row['text'].strip('][').split(', '):\n",
        "      split_df = split_df.append({'language': row['language'], 'title': title, 'text':text}, ignore_index=True)\n",
        "      print('Reading row # {} for language {}...'.format(i,lang))"
      ],
      "execution_count": null,
      "outputs": []
    },
    {
      "cell_type": "code",
      "metadata": {
        "colab": {
          "base_uri": "https://localhost:8080/",
          "height": 411
        },
        "id": "rzA2LBIUZMaU",
        "outputId": "6f7a1244-f4be-4d33-8aa8-4cf8a7dce8fc"
      },
      "source": [
        "split_df"
      ],
      "execution_count": null,
      "outputs": [
        {
          "output_type": "execute_result",
          "data": {
            "text/html": [
              "<div>\n",
              "<style scoped>\n",
              "    .dataframe tbody tr th:only-of-type {\n",
              "        vertical-align: middle;\n",
              "    }\n",
              "\n",
              "    .dataframe tbody tr th {\n",
              "        vertical-align: top;\n",
              "    }\n",
              "\n",
              "    .dataframe thead th {\n",
              "        text-align: right;\n",
              "    }\n",
              "</style>\n",
              "<table border=\"1\" class=\"dataframe\">\n",
              "  <thead>\n",
              "    <tr style=\"text-align: right;\">\n",
              "      <th></th>\n",
              "      <th>language</th>\n",
              "      <th>title</th>\n",
              "      <th>text</th>\n",
              "    </tr>\n",
              "  </thead>\n",
              "  <tbody>\n",
              "    <tr>\n",
              "      <th>0</th>\n",
              "      <td>de</td>\n",
              "      <td>'EAG Rat: Verordnung Nr. 3 zur Anwendung des A...</td>\n",
              "      <td>'VERORDNUNG Nr. 3 zur Anwendung des Artikels 2...</td>\n",
              "    </tr>\n",
              "    <tr>\n",
              "      <th>1</th>\n",
              "      <td>de</td>\n",
              "      <td>'EAG Rat: Verordnung Nr. 3 zur Anwendung des A...</td>\n",
              "      <td>'DER RAT DER EUROPÄISCHEN ATOMGEMEINSCHAFT,'</td>\n",
              "    </tr>\n",
              "    <tr>\n",
              "      <th>2</th>\n",
              "      <td>de</td>\n",
              "      <td>'EAG Rat: Verordnung Nr. 3 zur Anwendung des A...</td>\n",
              "      <td>'gestützt auf die Artikel 24</td>\n",
              "    </tr>\n",
              "    <tr>\n",
              "      <th>3</th>\n",
              "      <td>de</td>\n",
              "      <td>'EAG Rat: Verordnung Nr. 3 zur Anwendung des A...</td>\n",
              "      <td>25 und 217 des Vertrages zur Gründung der Euro...</td>\n",
              "    </tr>\n",
              "    <tr>\n",
              "      <th>4</th>\n",
              "      <td>de</td>\n",
              "      <td>'EAG Rat: Verordnung Nr. 3 zur Anwendung des A...</td>\n",
              "      <td>'gestützt auf den Vorschlag der Kommission,'</td>\n",
              "    </tr>\n",
              "    <tr>\n",
              "      <th>...</th>\n",
              "      <td>...</td>\n",
              "      <td>...</td>\n",
              "      <td>...</td>\n",
              "    </tr>\n",
              "    <tr>\n",
              "      <th>176811</th>\n",
              "      <td>pt</td>\n",
              "      <td>'Directiva 70/221/CEE do Conselho</td>\n",
              "      <td>'II.4. Em derrogação das disposições precedentes</td>\n",
              "    </tr>\n",
              "    <tr>\n",
              "      <th>176812</th>\n",
              "      <td>pt</td>\n",
              "      <td>'Directiva 70/221/CEE do Conselho</td>\n",
              "      <td>os veículos das categorias a seguir enumeradas...</td>\n",
              "    </tr>\n",
              "    <tr>\n",
              "      <th>176813</th>\n",
              "      <td>pt</td>\n",
              "      <td>'Directiva 70/221/CEE do Conselho</td>\n",
              "      <td>'- Tractores de semi-reboques,'</td>\n",
              "    </tr>\n",
              "    <tr>\n",
              "      <th>176814</th>\n",
              "      <td>pt</td>\n",
              "      <td>'Directiva 70/221/CEE do Conselho</td>\n",
              "      <td>'- zorras e outros reboques análogos destinado...</td>\n",
              "    </tr>\n",
              "    <tr>\n",
              "      <th>176815</th>\n",
              "      <td>pt</td>\n",
              "      <td>'Directiva 70/221/CEE do Conselho</td>\n",
              "      <td>'- veículos para os quais a existência de uma ...</td>\n",
              "    </tr>\n",
              "  </tbody>\n",
              "</table>\n",
              "<p>176816 rows × 3 columns</p>\n",
              "</div>"
            ],
            "text/plain": [
              "       language  ...                                               text\n",
              "0            de  ...  'VERORDNUNG Nr. 3 zur Anwendung des Artikels 2...\n",
              "1            de  ...       'DER RAT DER EUROPÄISCHEN ATOMGEMEINSCHAFT,'\n",
              "2            de  ...                       'gestützt auf die Artikel 24\n",
              "3            de  ...  25 und 217 des Vertrages zur Gründung der Euro...\n",
              "4            de  ...       'gestützt auf den Vorschlag der Kommission,'\n",
              "...         ...  ...                                                ...\n",
              "176811       pt  ...   'II.4. Em derrogação das disposições precedentes\n",
              "176812       pt  ...  os veículos das categorias a seguir enumeradas...\n",
              "176813       pt  ...                    '- Tractores de semi-reboques,'\n",
              "176814       pt  ...  '- zorras e outros reboques análogos destinado...\n",
              "176815       pt  ...  '- veículos para os quais a existência de uma ...\n",
              "\n",
              "[176816 rows x 3 columns]"
            ]
          },
          "metadata": {
            "tags": []
          },
          "execution_count": 20
        }
      ]
    },
    {
      "cell_type": "code",
      "metadata": {
        "id": "2Z4u6AjfY1Uf"
      },
      "source": [
        "split_df['embeddings'] = np.array(split_df['text'].apply(embed_text))"
      ],
      "execution_count": null,
      "outputs": []
    },
    {
      "cell_type": "code",
      "metadata": {
        "id": "18OQ0mpnhPY1"
      },
      "source": [
        "#split_df.to_pickle('/content/drive/MyDrive/corpus/split_df.pkl')   \n",
        "split_df = pd.read_pickle('/content/drive/MyDrive/corpus/split_df.pkl') "
      ],
      "execution_count": 7,
      "outputs": []
    },
    {
      "cell_type": "code",
      "metadata": {
        "colab": {
          "base_uri": "https://localhost:8080/"
        },
        "id": "AOiAjweMhxGF",
        "outputId": "093d1e6f-e2b2-4ccd-b9e2-40dd20472c29"
      },
      "source": [
        "split['embeddings'][0]"
      ],
      "execution_count": null,
      "outputs": [
        {
          "output_type": "execute_result",
          "data": {
            "text/plain": [
              "array([[ 8.08677450e-02,  5.03090397e-03, -1.34098399e-02,\n",
              "        -4.81182672e-02,  4.26572077e-02,  2.14328077e-02,\n",
              "        -5.48639335e-02, -8.89163762e-02,  5.08833900e-02,\n",
              "        -3.22072655e-02, -4.70126942e-02,  2.07157377e-02,\n",
              "        -6.49554804e-02,  3.40676904e-02, -6.15563951e-02,\n",
              "        -7.94026721e-03,  2.68500950e-02, -3.10819540e-02,\n",
              "         4.35195602e-02,  7.05977995e-03,  2.23631132e-02,\n",
              "         2.21673083e-02,  3.88520770e-02, -1.69127118e-02,\n",
              "         7.88476020e-02, -4.02862802e-02,  6.09492324e-02,\n",
              "        -2.00432278e-02,  5.22249714e-02,  1.97672155e-02,\n",
              "        -5.13332849e-03, -8.76190886e-03, -5.50462455e-02,\n",
              "        -1.90945528e-02,  5.40727691e-04,  1.75881684e-02,\n",
              "         8.45929310e-02, -1.91563535e-02,  3.50887403e-02,\n",
              "        -5.79879619e-02,  1.16725909e-02,  4.80781570e-02,\n",
              "         8.50198492e-02, -1.09848753e-02, -3.93984281e-02,\n",
              "        -3.54253724e-02,  2.80680116e-02, -1.59468036e-02,\n",
              "         3.25844511e-02, -4.55020592e-02,  2.88777947e-02,\n",
              "         7.83704687e-03,  3.55981998e-02,  2.94521358e-02,\n",
              "        -1.07240096e-01,  2.73335855e-02, -1.41953984e-02,\n",
              "         5.50323986e-02, -1.34805627e-02,  4.17827889e-02,\n",
              "         3.92891094e-02,  1.62694678e-02, -2.99517699e-02,\n",
              "        -5.28026838e-03,  3.70535743e-03,  7.50774369e-02,\n",
              "        -2.10818630e-02, -1.10096000e-02,  8.55316315e-03,\n",
              "        -5.52628823e-02,  7.98259396e-03, -4.81985994e-02,\n",
              "        -9.53074824e-03,  8.66210740e-03,  8.30107257e-02,\n",
              "         4.16299589e-02, -1.04908189e-02,  7.12766051e-02,\n",
              "         4.23372723e-02,  3.32440361e-02,  4.64385189e-02,\n",
              "         6.97637536e-03, -1.38231479e-02,  2.77153961e-02,\n",
              "         7.49108642e-02, -3.17826606e-02, -2.53245868e-02,\n",
              "         5.87538332e-02,  4.16817181e-02, -6.08869605e-02,\n",
              "         9.78605673e-02, -6.03437647e-02,  2.61658374e-02,\n",
              "         2.48436220e-02,  9.80279036e-03,  4.56782505e-02,\n",
              "        -1.98536757e-02,  1.36450594e-02, -1.78397298e-02,\n",
              "         4.80500795e-02,  4.09559533e-02, -4.38040085e-02,\n",
              "         8.50753859e-03,  3.53076458e-02,  3.75729129e-02,\n",
              "        -1.30137643e-02, -2.41033587e-04,  2.65871827e-02,\n",
              "        -7.14928806e-02, -3.43819037e-02, -6.11755028e-02,\n",
              "        -3.10237147e-02,  3.07877082e-02,  8.09018984e-02,\n",
              "        -2.78301574e-02,  5.65727316e-02,  4.19851728e-02,\n",
              "        -5.33919707e-02,  7.40319267e-02, -3.13206539e-02,\n",
              "         2.49252468e-02,  2.27206890e-02, -5.92425242e-02,\n",
              "        -3.34519148e-02, -1.22527005e-02, -2.83229165e-02,\n",
              "        -4.01925370e-02,  2.59240791e-02,  1.04311639e-02,\n",
              "        -9.11523867e-03, -4.72490899e-02, -5.48653156e-02,\n",
              "        -3.02777849e-02, -1.87253729e-02, -8.18086497e-04,\n",
              "         1.03313820e-02, -7.45531023e-02, -2.85199825e-02,\n",
              "         4.55193110e-02, -4.22356799e-02, -6.57304376e-02,\n",
              "        -4.68209833e-02,  6.99805468e-02, -5.65197086e-03,\n",
              "        -3.42074372e-02,  3.14516574e-02, -2.41148230e-02,\n",
              "         1.08427569e-01, -4.27906998e-02, -6.95204735e-02,\n",
              "        -4.66087982e-02,  8.47486779e-03, -3.62746567e-02,\n",
              "        -1.30995922e-02, -7.81207830e-02,  1.12506049e-02,\n",
              "         2.75710039e-02, -2.29887161e-02, -7.27278739e-02,\n",
              "         1.99815277e-02,  3.12918648e-02, -2.58182222e-03,\n",
              "        -5.27419373e-02,  2.36271210e-02, -6.43372238e-02,\n",
              "        -6.48023710e-02,  5.41399121e-02,  2.19797269e-02,\n",
              "         2.70059984e-02,  2.19819862e-02, -2.81737112e-02,\n",
              "         2.43886970e-02, -2.99827587e-02, -1.16804335e-02,\n",
              "         2.16974355e-02, -4.48067077e-02, -3.23321298e-02,\n",
              "         4.80867587e-02,  1.93354823e-02,  5.26600070e-02,\n",
              "        -3.83927077e-02, -2.35246643e-02,  9.81215611e-02,\n",
              "         9.87508371e-02, -2.93116868e-02,  2.37374939e-03,\n",
              "        -5.56261837e-02,  2.62064370e-03,  2.47718282e-02,\n",
              "         2.76505779e-02, -5.55937998e-02, -2.57948805e-02,\n",
              "         1.67611483e-02, -3.65031436e-02, -4.09403220e-02,\n",
              "        -7.15680271e-02,  5.15162908e-02, -6.95144311e-02,\n",
              "         6.84306324e-02, -3.90506238e-02,  9.74824280e-03,\n",
              "        -8.84368941e-02,  4.67540771e-02, -5.03955816e-04,\n",
              "        -2.08237357e-02,  3.24307270e-02,  8.99791531e-03,\n",
              "        -8.55178665e-03, -4.20280434e-02, -1.42963408e-02,\n",
              "        -4.50689346e-02,  5.52122034e-02, -5.69566712e-02,\n",
              "        -4.64984104e-02,  1.24298688e-02, -1.27952285e-02,\n",
              "        -4.47894745e-02, -1.19183427e-02,  5.55697270e-03,\n",
              "        -7.68054184e-03, -5.51596731e-02, -2.38620676e-02,\n",
              "         1.78065039e-02, -8.95355418e-02,  6.49231374e-02,\n",
              "         5.93560701e-03,  1.79785602e-02,  4.12236415e-02,\n",
              "        -2.82729673e-03, -1.71210449e-02,  1.46684172e-02,\n",
              "         5.36683537e-02,  2.48736683e-02, -3.91856320e-02,\n",
              "         7.70121515e-02, -4.56529930e-02, -5.20287231e-02,\n",
              "         2.76471805e-02,  2.77294926e-02, -3.57702188e-02,\n",
              "         7.72057995e-02, -1.14197573e-02, -3.14307585e-02,\n",
              "         2.75894254e-02, -4.54494320e-02,  6.11814484e-02,\n",
              "        -2.31142621e-02,  3.25751724e-03,  3.66705917e-02,\n",
              "        -6.11778982e-02,  1.11051593e-02,  3.63860615e-02,\n",
              "         6.07429184e-02, -2.04502248e-05, -2.22304538e-02,\n",
              "         8.03624019e-02, -2.54347119e-02, -8.40769038e-02,\n",
              "         1.33514171e-02,  1.28165586e-02, -1.14744762e-02,\n",
              "         6.55181184e-02,  1.64373815e-02,  6.16804957e-02,\n",
              "         5.11836745e-02,  6.25824854e-02,  3.10072452e-02,\n",
              "        -5.87340221e-02,  3.13851945e-02,  1.86863518e-03,\n",
              "        -7.62917846e-02,  9.11999214e-03,  4.52124252e-04,\n",
              "         1.20885940e-02, -2.03305893e-02, -7.58042932e-03,\n",
              "         5.52782454e-02, -3.70222726e-03, -6.40062541e-02,\n",
              "         1.63561327e-03,  7.90359750e-02, -6.48015598e-03,\n",
              "         6.94858050e-03,  5.41559756e-02, -1.96673889e-02,\n",
              "        -5.37023619e-02, -7.31118694e-02, -3.72600667e-02,\n",
              "        -6.38888851e-02, -2.60226149e-02,  5.89961335e-02,\n",
              "         6.18496314e-02,  7.03234449e-02,  2.81833559e-02,\n",
              "         4.03048545e-02, -6.97167963e-03,  6.99034780e-02,\n",
              "        -5.72462827e-02, -1.63831022e-02,  2.98517980e-02,\n",
              "        -5.28933294e-02, -3.95006733e-03,  2.04331968e-02,\n",
              "         5.28786285e-03,  7.18073174e-02,  6.38557225e-03,\n",
              "         5.79467602e-02, -5.40334322e-02,  1.60903297e-03,\n",
              "         8.12705513e-03,  2.57604029e-02, -5.67143201e-04,\n",
              "         1.98234543e-02,  9.20675471e-02, -9.43710133e-02,\n",
              "        -9.08507779e-03, -4.45520841e-02, -6.29969761e-02,\n",
              "         4.55364622e-02, -1.71503816e-02, -8.81822489e-04,\n",
              "         3.29193175e-02, -7.57874101e-02, -2.06629820e-02,\n",
              "         1.00700939e-02, -4.53496613e-02, -1.70825049e-03,\n",
              "         4.93942015e-02, -7.95266591e-03, -3.80358174e-02,\n",
              "        -1.58320442e-02,  2.47163768e-03, -8.76960065e-03,\n",
              "         4.11814451e-02,  7.74717480e-02,  1.71178970e-02,\n",
              "        -6.76284824e-03, -1.07356831e-01, -1.95684452e-02,\n",
              "         4.12637144e-02,  6.94029629e-02, -1.12904264e-02,\n",
              "         9.48619656e-03,  6.70990199e-02,  5.12336157e-02,\n",
              "        -5.35608158e-02, -2.13382654e-02,  6.83847116e-03,\n",
              "         2.60730851e-02,  2.49916408e-02,  2.40914468e-02,\n",
              "         5.92446178e-02, -1.23682152e-03,  7.26901367e-02,\n",
              "        -3.69498469e-02, -2.38223895e-02,  3.11747435e-02,\n",
              "         8.88676718e-02, -4.16391045e-02,  1.13621280e-01,\n",
              "         4.39766720e-02, -6.84430301e-02, -4.68996987e-02,\n",
              "        -7.06678927e-02,  1.25287669e-02,  6.47114441e-02,\n",
              "        -3.08973473e-02, -6.29812256e-02,  5.60088009e-02,\n",
              "        -1.38827180e-02,  4.18902449e-02,  2.81173214e-02,\n",
              "        -6.44642562e-02, -2.73943245e-02, -7.87900910e-02,\n",
              "         4.61810036e-03, -4.69502956e-02,  2.16800570e-02,\n",
              "         4.19065915e-03,  2.85472237e-02, -9.62029397e-02,\n",
              "        -8.78568962e-02, -4.76963520e-02, -4.72974293e-02,\n",
              "         5.50910681e-02, -2.12765429e-02,  2.89260224e-02,\n",
              "        -4.05834951e-02,  5.90233356e-02,  4.19336930e-02,\n",
              "         3.28760371e-02,  7.59898052e-02,  7.72666782e-02,\n",
              "        -2.59742513e-02,  4.09784541e-02, -5.40264277e-03,\n",
              "        -5.69984093e-02,  1.27945899e-03, -2.71639740e-03,\n",
              "         6.19364157e-02, -1.53503753e-02,  6.48082793e-02,\n",
              "         2.94791386e-02, -1.10245803e-02,  5.03272489e-02,\n",
              "         3.23054008e-02,  4.31514010e-02,  4.99308482e-02,\n",
              "        -5.67711517e-02, -6.68301433e-02,  9.10718814e-02,\n",
              "        -3.62684131e-02, -3.83732952e-02, -3.57644819e-02,\n",
              "        -8.47575068e-02, -2.49671675e-02, -2.08534952e-03,\n",
              "         1.52131580e-02, -1.65639427e-02, -2.56357882e-02,\n",
              "        -5.62070720e-02, -1.93271581e-02,  6.54257741e-03,\n",
              "        -4.95733880e-02,  2.26943963e-03,  1.04063880e-02,\n",
              "         3.42834778e-02,  3.59082967e-02,  1.28713641e-02,\n",
              "        -1.10373506e-02, -1.39152789e-02,  3.35223827e-04,\n",
              "         7.48019852e-03,  5.47641553e-02, -7.45989848e-03,\n",
              "         2.39959601e-02, -3.55922207e-02,  1.86387450e-02,\n",
              "        -4.57500555e-02,  3.10865603e-02,  3.97665836e-02,\n",
              "         1.01808086e-01,  2.65848320e-02, -5.71809448e-02,\n",
              "         5.64871170e-02, -7.27278963e-02, -7.66304433e-02,\n",
              "         4.03395010e-04, -5.98576590e-02, -9.79081169e-03,\n",
              "        -7.65003562e-02,  5.58531024e-02, -9.92359500e-03,\n",
              "         3.50362137e-02, -4.82830629e-02,  5.67530654e-02,\n",
              "         6.92584962e-02, -3.88936065e-02,  1.45933982e-02,\n",
              "        -6.74057193e-03,  3.46051194e-02,  2.36360449e-02,\n",
              "        -3.93768027e-02,  5.97901419e-02, -3.00815143e-02,\n",
              "         9.16891918e-02,  3.69541235e-02,  6.55301800e-03,\n",
              "        -1.12233786e-02, -4.95836027e-02,  5.02506718e-02,\n",
              "        -4.51462576e-03,  2.01773848e-02,  1.09083802e-02,\n",
              "         1.60969011e-02, -2.29436997e-02,  5.77506311e-02,\n",
              "        -3.43578644e-02, -1.06946509e-02,  2.74728332e-02,\n",
              "        -4.90855388e-02, -4.78874408e-02,  2.51961537e-02,\n",
              "        -6.27104342e-02,  5.50224409e-02,  6.02638237e-02,\n",
              "        -6.37734756e-02, -7.41390809e-02, -5.42008830e-03,\n",
              "        -6.34133890e-02,  8.11636355e-03,  2.93308049e-02,\n",
              "         5.43788485e-02, -4.48861681e-02, -4.08841670e-02,\n",
              "        -1.54734896e-02,  5.93250198e-03,  2.47457661e-02,\n",
              "        -5.68602979e-02, -6.81661814e-02, -6.57517686e-02,\n",
              "         2.46878788e-02,  3.20670903e-02,  9.91622638e-03,\n",
              "         2.16540042e-02, -3.15030366e-02,  4.75837179e-02,\n",
              "         6.62874803e-02,  9.44313779e-03,  5.50693646e-03,\n",
              "         6.99467445e-03,  2.45854892e-02]], dtype=float32)"
            ]
          },
          "metadata": {
            "tags": []
          },
          "execution_count": 13
        }
      ]
    },
    {
      "cell_type": "code",
      "metadata": {
        "id": "eVLXwYAVgfxj"
      },
      "source": [
        "#turns out is reads csv values as strings which is no good \n",
        "\n",
        "#split_df.to_csv('/content/drive/MyDrive/corpus/split_df.csv', index=False)\n",
        "#split_df =  pd.read_csv('/content/drive/MyDrive/corpus/split_df.csv', dtype=object)"
      ],
      "execution_count": null,
      "outputs": []
    },
    {
      "cell_type": "code",
      "metadata": {
        "colab": {
          "base_uri": "https://localhost:8080/",
          "height": 116
        },
        "id": "joU97kVegvVQ",
        "outputId": "e3474db9-0663-4978-adae-91eac4300b1e"
      },
      "source": [
        "# split_df['embeddings'][0]"
      ],
      "execution_count": null,
      "outputs": [
        {
          "output_type": "execute_result",
          "data": {
            "application/vnd.google.colaboratory.intrinsic+json": {
              "type": "string"
            },
            "text/plain": [
              "'[ 8.08677450e-02  5.03091747e-03 -1.34098381e-02 -4.81182635e-02\\n  4.26572114e-02  2.14328188e-02 -5.48639223e-02 -8.89163688e-02\\n  5.08833937e-02 -3.22072804e-02 -4.70127165e-02  2.07157396e-02\\n -6.49554804e-02  3.40676904e-02 -6.15563951e-02 -7.94026721e-03\\n  2.68501006e-02 -3.10819540e-02  4.35195528e-02  7.05980742e-03\\n  2.23631095e-02  2.21673101e-02  3.88520807e-02 -1.69127118e-02\\n  7.88475946e-02 -4.02862802e-02  6.09492324e-02 -2.00432353e-02\\n  5.22249714e-02  1.97672211e-02 -5.13332151e-03 -8.76191538e-03\\n -5.50462566e-02 -1.90945491e-02  5.40724373e-04  1.75881814e-02\\n  8.45929310e-02 -1.91563647e-02  3.50887366e-02 -5.79879619e-02\\n  1.16725843e-02  4.80781458e-02  8.50198418e-02 -1.09848995e-02\\n -3.93984355e-02 -3.54253501e-02  2.80680116e-02 -1.59467999e-02\\n  3.25844511e-02 -4.55020666e-02  2.88777836e-02  7.83704408e-03\\n  3.55981998e-02  2.94521376e-02 -1.07240096e-01  2.73335837e-02\\n -1.41954012e-02  5.50323837e-02 -1.34805460e-02  4.17827852e-02\\n  3.92891206e-02  1.62694715e-02 -2.99517736e-02 -5.28025674e-03\\n  3.70535231e-03  7.50774443e-02 -2.10818630e-02 -1.10095823e-02\\n  8.55316967e-03 -5.52628748e-02  7.98260234e-03 -4.81986068e-02\\n -9.53074824e-03  8.66209716e-03  8.30107257e-02  4.16299589e-02\\n -1.04908189e-02  7.12766051e-02  4.23372723e-02  3.32440436e-02\\n  4.64385189e-02  6.97638886e-03 -1.38231507e-02  2.77153961e-02\\n  7.49108717e-02 -3.17826718e-02 -2.53246017e-02  5.87538332e-02\\n  4.16817293e-02 -6.08869679e-02  9.78605524e-02 -6.03437722e-02\\n  2.61658374e-02  2.48436294e-02  9.80278570e-03  4.56782505e-02\\n -1.98536869e-02  1.36450613e-02 -1.78397242e-02  4.80500758e-02\\n  4.09559570e-02 -4.38040309e-02  8.50754511e-03  3.53076421e-02\\n  3.75729166e-02 -1.30137755e-02 -2.41024230e-04  2.65871733e-02\\n -7.14928806e-02 -3.43819037e-02 -6.11755028e-02 -3.10237184e-02\\n  3.07877287e-02  8.09019059e-02 -2.78301593e-02  5.65727316e-02\\n  4.19851728e-02 -5.33919670e-02  7.40319267e-02 -3.13206539e-02\\n  2.49252468e-02  2.27207076e-02 -5.92425391e-02 -3.34519148e-02\\n -1.22527005e-02 -2.83229370e-02 -4.01925519e-02  2.59241033e-02\\n  1.04311677e-02 -9.11524147e-03 -4.72491086e-02 -5.48653193e-02\\n -3.02777924e-02 -1.87253654e-02 -8.18095054e-04  1.03313718e-02\\n -7.45530874e-02 -2.85199750e-02  4.55193333e-02 -4.22356874e-02\\n -6.57304451e-02 -4.68209907e-02  6.99805394e-02 -5.65198017e-03\\n -3.42074446e-02  3.14516574e-02 -2.41148155e-02  1.08427554e-01\\n -4.27907147e-02 -6.95204809e-02 -4.66087610e-02  8.47488828e-03\\n -3.62746753e-02 -1.30995717e-02 -7.81207681e-02  1.12505984e-02\\n  2.75710039e-02 -2.29886975e-02 -7.27278963e-02  1.99815333e-02\\n  3.12918648e-02 -2.58183572e-03 -5.27419336e-02  2.36271136e-02\\n -6.43372312e-02 -6.48023561e-02  5.41399121e-02  2.19797138e-02\\n  2.70060040e-02  2.19819807e-02 -2.81737149e-02  2.43887063e-02\\n -2.99827605e-02 -1.16804298e-02  2.16974355e-02 -4.48066816e-02\\n -3.23321298e-02  4.80867401e-02  1.93354823e-02  5.26600108e-02\\n -3.83926965e-02 -2.35246774e-02  9.81215611e-02  9.87508371e-02\\n -2.93116905e-02  2.37373565e-03 -5.56261875e-02  2.62063323e-03\\n  2.47718338e-02  2.76505705e-02 -5.55937998e-02 -2.57949065e-02\\n  1.67611372e-02 -3.65031734e-02 -4.09403220e-02 -7.15680271e-02\\n  5.15162945e-02 -6.95144311e-02  6.84306324e-02 -3.90506350e-02\\n  9.74822976e-03 -8.84368941e-02  4.67540883e-02 -5.03955816e-04\\n -2.08237283e-02  3.24307159e-02  8.99792556e-03 -8.55178665e-03\\n -4.20280546e-02 -1.42963612e-02 -4.50689532e-02  5.52122071e-02\\n -5.69566712e-02 -4.64984030e-02  1.24298735e-02 -1.27952071e-02\\n -4.47894707e-02 -1.19183334e-02  5.55696618e-03 -7.68054835e-03\\n -5.51596470e-02 -2.38620564e-02  1.78065225e-02 -8.95355418e-02\\n  6.49231225e-02  5.93559351e-03  1.79785658e-02  4.12236489e-02\\n -2.82728998e-03 -1.71210524e-02  1.46684116e-02  5.36683798e-02\\n  2.48736776e-02 -3.91856395e-02  7.70121366e-02 -4.56529893e-02\\n -5.20287193e-02  2.76471861e-02  2.77294926e-02 -3.57702076e-02\\n  7.72057995e-02 -1.14197563e-02 -3.14307585e-02  2.75894273e-02\\n -4.54494394e-02  6.11814484e-02 -2.31142547e-02  3.25751631e-03\\n  3.66705917e-02 -6.11778721e-02  1.11051751e-02  3.63860726e-02\\n  6.07429184e-02 -2.04519220e-05 -2.22304612e-02  8.03624019e-02\\n -2.54347045e-02 -8.40769187e-02  1.33514218e-02  1.28165558e-02\\n -1.14744678e-02  6.55181110e-02  1.64374001e-02  6.16805106e-02\\n  5.11836745e-02  6.25824854e-02  3.10072340e-02 -5.87340295e-02\\n  3.13851945e-02  1.86863518e-03 -7.62917846e-02  9.11997352e-03\\n  4.52110660e-04  1.20886210e-02 -2.03305986e-02 -7.58043258e-03\\n  5.52782491e-02 -3.70222377e-03 -6.40062466e-02  1.63563190e-03\\n  7.90359899e-02 -6.48013735e-03  6.94858748e-03  5.41559532e-02\\n -1.96673814e-02 -5.37023582e-02 -7.31118694e-02 -3.72600593e-02\\n -6.38889000e-02 -2.60226224e-02  5.89961596e-02  6.18496314e-02\\n  7.03234449e-02  2.81833522e-02  4.03048433e-02 -6.97167497e-03\\n  6.99034706e-02 -5.72462752e-02 -1.63831078e-02  2.98517738e-02\\n -5.28933182e-02 -3.95006873e-03  2.04331912e-02  5.28785773e-03\\n  7.18073323e-02  6.38558576e-03  5.79467751e-02 -5.40334322e-02\\n  1.60902622e-03  8.12705234e-03  2.57603899e-02 -5.67143201e-04\\n  1.98234599e-02  9.20675471e-02 -9.43710133e-02 -9.08506289e-03\\n -4.45520654e-02 -6.29969984e-02  4.55364697e-02 -1.71503667e-02\\n -8.81803862e-04  3.29193026e-02 -7.57873878e-02 -2.06629820e-02\\n  1.00700939e-02 -4.53496613e-02 -1.70826912e-03  4.93942089e-02\\n -7.95267615e-03 -3.80358249e-02 -1.58320535e-02  2.47162487e-03\\n -8.76960717e-03  4.11814377e-02  7.74717778e-02  1.71178970e-02\\n -6.76284824e-03 -1.07356824e-01 -1.95684265e-02  4.12637144e-02\\n  6.94029480e-02 -1.12904264e-02  9.48620029e-03  6.70990199e-02\\n  5.12335934e-02 -5.35607971e-02 -2.13382673e-02  6.83848513e-03\\n  2.60730796e-02  2.49916501e-02  2.40914579e-02  5.92446178e-02\\n -1.23679952e-03  7.26901367e-02 -3.69498581e-02 -2.38223895e-02\\n  3.11747435e-02  8.88676718e-02 -4.16391157e-02  1.13621280e-01\\n  4.39766645e-02 -6.84430376e-02 -4.68997061e-02 -7.06679001e-02\\n  1.25287734e-02  6.47114292e-02 -3.08973510e-02 -6.29812330e-02\\n  5.60087860e-02 -1.38827339e-02  4.18902375e-02  2.81173270e-02\\n -6.44642636e-02 -2.73943264e-02 -7.87901059e-02  4.61809337e-03\\n -4.69502881e-02  2.16800533e-02  4.19065263e-03  2.85472274e-02\\n -9.62029397e-02 -8.78568888e-02 -4.76963371e-02 -4.72974218e-02\\n  5.50910756e-02 -2.12765429e-02  2.89260224e-02 -4.05834764e-02\\n  5.90233691e-02  4.19337004e-02  3.28760333e-02  7.59898052e-02\\n  7.72666782e-02 -2.59742439e-02  4.09784354e-02 -5.40267676e-03\\n -5.69984093e-02  1.27945212e-03 -2.71640625e-03  6.19364008e-02\\n -1.53504098e-02  6.48082793e-02  2.94791423e-02 -1.10245803e-02\\n  5.03272563e-02  3.23054120e-02  4.31513935e-02  4.99308445e-02\\n -5.67711480e-02 -6.68301433e-02  9.10718665e-02 -3.62684168e-02\\n -3.83732952e-02 -3.57644930e-02 -8.47574994e-02 -2.49671768e-02\\n -2.08533998e-03  1.52131561e-02 -1.65639389e-02 -2.56357808e-02\\n -5.62070794e-02 -1.93271432e-02  6.54257229e-03 -4.95733954e-02\\n  2.26943567e-03  1.04063917e-02  3.42834778e-02  3.59083042e-02\\n  1.28713641e-02 -1.10373488e-02 -1.39152696e-02  3.35228920e-04\\n  7.48021062e-03  5.47641553e-02 -7.45990872e-03  2.39959545e-02\\n -3.55922133e-02  1.86387319e-02 -4.57500517e-02  3.10865473e-02\\n  3.97665948e-02  1.01808086e-01  2.65848320e-02 -5.71809374e-02\\n  5.64871170e-02 -7.27278665e-02 -7.66304433e-02  4.03408601e-04\\n -5.98576665e-02 -9.79081821e-03 -7.65003413e-02  5.58531024e-02\\n -9.92360152e-03  3.50362137e-02 -4.82830666e-02  5.67530617e-02\\n  6.92584738e-02 -3.88935879e-02  1.45934112e-02 -6.74059009e-03\\n  3.46051119e-02  2.36360319e-02 -3.93767916e-02  5.97901419e-02\\n -3.00814975e-02  9.16891918e-02  3.69541422e-02  6.55301614e-03\\n -1.12233767e-02 -4.95836027e-02  5.02506681e-02 -4.51461924e-03\\n  2.01773923e-02  1.09084044e-02  1.60968956e-02 -2.29436848e-02\\n  5.77506311e-02 -3.43578681e-02 -1.06946630e-02  2.74728127e-02\\n -4.90855277e-02 -4.78874408e-02  2.51961537e-02 -6.27104267e-02\\n  5.50224409e-02  6.02638237e-02 -6.37734905e-02 -7.41390586e-02\\n -5.42006828e-03 -6.34134039e-02  8.11636075e-03  2.93308180e-02\\n  5.43788411e-02 -4.48861495e-02 -4.08841781e-02 -1.54734962e-02\\n  5.93252014e-03  2.47457754e-02 -5.68603054e-02 -6.81661591e-02\\n -6.57517686e-02  2.46878937e-02  3.20671052e-02  9.91619285e-03\\n  2.16539949e-02 -3.15030366e-02  4.75837179e-02  6.62874803e-02\\n  9.44313034e-03  5.50693041e-03  6.99464697e-03  2.45854799e-02]'"
            ]
          },
          "metadata": {
            "tags": []
          },
          "execution_count": 10
        }
      ]
    },
    {
      "cell_type": "code",
      "metadata": {
        "id": "xL1IHi0K2A74"
      },
      "source": [
        "text_df = pd.DataFrame(columns=['language','title','text'])\n",
        "for lang in lang_list:\n",
        "  temp = split_df[split_df['language']== lang]\n",
        "  temp = temp.sample(n=1000)\n",
        "  text_df = text_df.append(temp, ignore_index=True)"
      ],
      "execution_count": null,
      "outputs": []
    },
    {
      "cell_type": "code",
      "metadata": {
        "colab": {
          "base_uri": "https://localhost:8080/",
          "height": 411
        },
        "id": "Jn0bLErRuIiB",
        "outputId": "e588de4f-673f-4d74-8375-1ee4355d080c"
      },
      "source": [
        "text_df = text_df.drop('title',axis=1)\n",
        "text_df"
      ],
      "execution_count": null,
      "outputs": [
        {
          "output_type": "execute_result",
          "data": {
            "text/html": [
              "<div>\n",
              "<style scoped>\n",
              "    .dataframe tbody tr th:only-of-type {\n",
              "        vertical-align: middle;\n",
              "    }\n",
              "\n",
              "    .dataframe tbody tr th {\n",
              "        vertical-align: top;\n",
              "    }\n",
              "\n",
              "    .dataframe thead th {\n",
              "        text-align: right;\n",
              "    }\n",
              "</style>\n",
              "<table border=\"1\" class=\"dataframe\">\n",
              "  <thead>\n",
              "    <tr style=\"text-align: right;\">\n",
              "      <th></th>\n",
              "      <th>language</th>\n",
              "      <th>text</th>\n",
              "    </tr>\n",
              "  </thead>\n",
              "  <tbody>\n",
              "    <tr>\n",
              "      <th>0</th>\n",
              "      <td>de</td>\n",
              "      <td>von dem es seine Rechte herleitet.'</td>\n",
              "    </tr>\n",
              "    <tr>\n",
              "      <th>1</th>\n",
              "      <td>de</td>\n",
              "      <td>insbesondere auf Artikel 43,'</td>\n",
              "    </tr>\n",
              "    <tr>\n",
              "      <th>2</th>\n",
              "      <td>de</td>\n",
              "      <td>von Einzelbetrieben stammen</td>\n",
              "    </tr>\n",
              "    <tr>\n",
              "      <th>3</th>\n",
              "      <td>de</td>\n",
              "      <td>'S : 37-65-71-103'</td>\n",
              "    </tr>\n",
              "    <tr>\n",
              "      <th>4</th>\n",
              "      <td>de</td>\n",
              "      <td>Beschlüsse und aufeinander abgestimmten Verhal...</td>\n",
              "    </tr>\n",
              "    <tr>\n",
              "      <th>...</th>\n",
              "      <td>...</td>\n",
              "      <td>...</td>\n",
              "    </tr>\n",
              "    <tr>\n",
              "      <th>7995</th>\n",
              "      <td>pt</td>\n",
              "      <td>'POSIÇÃO NUMA TABELA'</td>\n",
              "    </tr>\n",
              "    <tr>\n",
              "      <th>7996</th>\n",
              "      <td>pt</td>\n",
              "      <td>'O CONSELHO DAS COMUNIDADES EUROPEIAS,'</td>\n",
              "    </tr>\n",
              "    <tr>\n",
              "      <th>7997</th>\n",
              "      <td>pt</td>\n",
              "      <td>'1. A fim de evitar uma acumulação inútil de CSE</td>\n",
              "    </tr>\n",
              "    <tr>\n",
              "      <th>7998</th>\n",
              "      <td>pt</td>\n",
              "      <td>o jogo de crivos é fechado na parte inferior e...</td>\n",
              "    </tr>\n",
              "    <tr>\n",
              "      <th>7999</th>\n",
              "      <td>pt</td>\n",
              "      <td>'5. Relativamente às espécies alogâmicas</td>\n",
              "    </tr>\n",
              "  </tbody>\n",
              "</table>\n",
              "<p>8000 rows × 2 columns</p>\n",
              "</div>"
            ],
            "text/plain": [
              "     language                                               text\n",
              "0          de                von dem es seine Rechte herleitet.'\n",
              "1          de                      insbesondere auf Artikel 43,'\n",
              "2          de                        von Einzelbetrieben stammen\n",
              "3          de                                 'S : 37-65-71-103'\n",
              "4          de  Beschlüsse und aufeinander abgestimmten Verhal...\n",
              "...       ...                                                ...\n",
              "7995       pt                              'POSIÇÃO NUMA TABELA'\n",
              "7996       pt            'O CONSELHO DAS COMUNIDADES EUROPEIAS,'\n",
              "7997       pt   '1. A fim de evitar uma acumulação inútil de CSE\n",
              "7998       pt  o jogo de crivos é fechado na parte inferior e...\n",
              "7999       pt           '5. Relativamente às espécies alogâmicas\n",
              "\n",
              "[8000 rows x 2 columns]"
            ]
          },
          "metadata": {
            "tags": []
          },
          "execution_count": 45
        }
      ]
    },
    {
      "cell_type": "code",
      "metadata": {
        "id": "0uvflUoYuIRD"
      },
      "source": [
        "language_to_sentences = dict(tuple(text_df.groupby('language')))"
      ],
      "execution_count": null,
      "outputs": []
    },
    {
      "cell_type": "code",
      "metadata": {
        "id": "DMl7A22Xq6BW"
      },
      "source": [
        "for i in lang_list:\n",
        "  \n",
        "  language_to_sentences[i].to_csv('/content/drive/MyDrive/corpus/text.'+i, index=False)"
      ],
      "execution_count": null,
      "outputs": []
    },
    {
      "cell_type": "code",
      "metadata": {
        "id": "QJnuKMEbzgPK"
      },
      "source": [
        "for i in lang_list:\n",
        "  test = pd.read_csv('/content/drive/MyDrive/corpus/text.'+i)\n",
        "  test = test.drop('language',axis=1)\n",
        "  test.to_csv('/content/drive/MyDrive/corpus/text.'+i, index=False)"
      ],
      "execution_count": null,
      "outputs": []
    },
    {
      "cell_type": "markdown",
      "metadata": {
        "id": "87n-d4FFvut1"
      },
      "source": [
        "### Create title files for each language"
      ]
    },
    {
      "cell_type": "code",
      "metadata": {
        "colab": {
          "base_uri": "https://localhost:8080/",
          "height": 411
        },
        "id": "qDP-8kwryPrE",
        "outputId": "64af5971-e95c-44d6-f831-c860f77ddc33"
      },
      "source": [
        "title_df = split_df.drop('text',axis=1)\n",
        "title_df"
      ],
      "execution_count": null,
      "outputs": [
        {
          "output_type": "execute_result",
          "data": {
            "text/html": [
              "<div>\n",
              "<style scoped>\n",
              "    .dataframe tbody tr th:only-of-type {\n",
              "        vertical-align: middle;\n",
              "    }\n",
              "\n",
              "    .dataframe tbody tr th {\n",
              "        vertical-align: top;\n",
              "    }\n",
              "\n",
              "    .dataframe thead th {\n",
              "        text-align: right;\n",
              "    }\n",
              "</style>\n",
              "<table border=\"1\" class=\"dataframe\">\n",
              "  <thead>\n",
              "    <tr style=\"text-align: right;\">\n",
              "      <th></th>\n",
              "      <th>language</th>\n",
              "      <th>title</th>\n",
              "    </tr>\n",
              "  </thead>\n",
              "  <tbody>\n",
              "    <tr>\n",
              "      <th>0</th>\n",
              "      <td>de</td>\n",
              "      <td>'EAG Rat: Verordnung Nr. 3 zur Anwendung des A...</td>\n",
              "    </tr>\n",
              "    <tr>\n",
              "      <th>1</th>\n",
              "      <td>de</td>\n",
              "      <td>'EAG Rat: Verordnung Nr. 3 zur Anwendung des A...</td>\n",
              "    </tr>\n",
              "    <tr>\n",
              "      <th>2</th>\n",
              "      <td>de</td>\n",
              "      <td>'EAG Rat: Verordnung Nr. 3 zur Anwendung des A...</td>\n",
              "    </tr>\n",
              "    <tr>\n",
              "      <th>3</th>\n",
              "      <td>de</td>\n",
              "      <td>'EAG Rat: Verordnung Nr. 3 zur Anwendung des A...</td>\n",
              "    </tr>\n",
              "    <tr>\n",
              "      <th>4</th>\n",
              "      <td>de</td>\n",
              "      <td>'EAG Rat: Verordnung Nr. 3 zur Anwendung des A...</td>\n",
              "    </tr>\n",
              "    <tr>\n",
              "      <th>...</th>\n",
              "      <td>...</td>\n",
              "      <td>...</td>\n",
              "    </tr>\n",
              "    <tr>\n",
              "      <th>176811</th>\n",
              "      <td>pt</td>\n",
              "      <td>'Directiva 70/221/CEE do Conselho</td>\n",
              "    </tr>\n",
              "    <tr>\n",
              "      <th>176812</th>\n",
              "      <td>pt</td>\n",
              "      <td>'Directiva 70/221/CEE do Conselho</td>\n",
              "    </tr>\n",
              "    <tr>\n",
              "      <th>176813</th>\n",
              "      <td>pt</td>\n",
              "      <td>'Directiva 70/221/CEE do Conselho</td>\n",
              "    </tr>\n",
              "    <tr>\n",
              "      <th>176814</th>\n",
              "      <td>pt</td>\n",
              "      <td>'Directiva 70/221/CEE do Conselho</td>\n",
              "    </tr>\n",
              "    <tr>\n",
              "      <th>176815</th>\n",
              "      <td>pt</td>\n",
              "      <td>'Directiva 70/221/CEE do Conselho</td>\n",
              "    </tr>\n",
              "  </tbody>\n",
              "</table>\n",
              "<p>176816 rows × 2 columns</p>\n",
              "</div>"
            ],
            "text/plain": [
              "       language                                              title\n",
              "0            de  'EAG Rat: Verordnung Nr. 3 zur Anwendung des A...\n",
              "1            de  'EAG Rat: Verordnung Nr. 3 zur Anwendung des A...\n",
              "2            de  'EAG Rat: Verordnung Nr. 3 zur Anwendung des A...\n",
              "3            de  'EAG Rat: Verordnung Nr. 3 zur Anwendung des A...\n",
              "4            de  'EAG Rat: Verordnung Nr. 3 zur Anwendung des A...\n",
              "...         ...                                                ...\n",
              "176811       pt                  'Directiva 70/221/CEE do Conselho\n",
              "176812       pt                  'Directiva 70/221/CEE do Conselho\n",
              "176813       pt                  'Directiva 70/221/CEE do Conselho\n",
              "176814       pt                  'Directiva 70/221/CEE do Conselho\n",
              "176815       pt                  'Directiva 70/221/CEE do Conselho\n",
              "\n",
              "[176816 rows x 2 columns]"
            ]
          },
          "metadata": {
            "tags": []
          },
          "execution_count": 22
        }
      ]
    },
    {
      "cell_type": "code",
      "metadata": {
        "colab": {
          "base_uri": "https://localhost:8080/",
          "height": 411
        },
        "id": "0TP2FH2gzuo6",
        "outputId": "3bc91b19-83db-47b2-af6a-5f1a859450de"
      },
      "source": [
        "# dropping ALL duplicte values \n",
        "title_df.drop_duplicates(subset =\"title\", inplace = True) \n",
        "title_df"
      ],
      "execution_count": null,
      "outputs": [
        {
          "output_type": "execute_result",
          "data": {
            "text/html": [
              "<div>\n",
              "<style scoped>\n",
              "    .dataframe tbody tr th:only-of-type {\n",
              "        vertical-align: middle;\n",
              "    }\n",
              "\n",
              "    .dataframe tbody tr th {\n",
              "        vertical-align: top;\n",
              "    }\n",
              "\n",
              "    .dataframe thead th {\n",
              "        text-align: right;\n",
              "    }\n",
              "</style>\n",
              "<table border=\"1\" class=\"dataframe\">\n",
              "  <thead>\n",
              "    <tr style=\"text-align: right;\">\n",
              "      <th></th>\n",
              "      <th>language</th>\n",
              "      <th>title</th>\n",
              "    </tr>\n",
              "  </thead>\n",
              "  <tbody>\n",
              "    <tr>\n",
              "      <th>0</th>\n",
              "      <td>de</td>\n",
              "      <td>'EAG Rat: Verordnung Nr. 3 zur Anwendung des A...</td>\n",
              "    </tr>\n",
              "    <tr>\n",
              "      <th>430</th>\n",
              "      <td>de</td>\n",
              "      <td>'EWG Rat: Verordnung Nr. 1 zur Regelung der Sp...</td>\n",
              "    </tr>\n",
              "    <tr>\n",
              "      <th>468</th>\n",
              "      <td>de</td>\n",
              "      <td>'Entscheidung über die Gründung des \"Amtsblatt...</td>\n",
              "    </tr>\n",
              "    <tr>\n",
              "      <th>483</th>\n",
              "      <td>de</td>\n",
              "      <td>'EAG Rat: Satzung der Euratom-Versorgungsagentur'</td>\n",
              "    </tr>\n",
              "    <tr>\n",
              "      <th>720</th>\n",
              "      <td>de</td>\n",
              "      <td>'ENTSCHEIDUNG über die Gründung des \"Amtsblatt...</td>\n",
              "    </tr>\n",
              "    <tr>\n",
              "      <th>...</th>\n",
              "      <td>...</td>\n",
              "      <td>...</td>\n",
              "    </tr>\n",
              "    <tr>\n",
              "      <th>176226</th>\n",
              "      <td>pt</td>\n",
              "      <td>'Regulamento (CEE) nº 1107/70</td>\n",
              "    </tr>\n",
              "    <tr>\n",
              "      <th>176378</th>\n",
              "      <td>pt</td>\n",
              "      <td>'Directiva 70/373/CEE do Conselho</td>\n",
              "    </tr>\n",
              "    <tr>\n",
              "      <th>176466</th>\n",
              "      <td>pt</td>\n",
              "      <td>'Acordo complementar ao Acordo relativo aos Pr...</td>\n",
              "    </tr>\n",
              "    <tr>\n",
              "      <th>176548</th>\n",
              "      <td>pt</td>\n",
              "      <td>'Directiva 70/387/CEE do Conselho</td>\n",
              "    </tr>\n",
              "    <tr>\n",
              "      <th>176725</th>\n",
              "      <td>pt</td>\n",
              "      <td>'Directiva 70/221/CEE do Conselho</td>\n",
              "    </tr>\n",
              "  </tbody>\n",
              "</table>\n",
              "<p>776 rows × 2 columns</p>\n",
              "</div>"
            ],
            "text/plain": [
              "       language                                              title\n",
              "0            de  'EAG Rat: Verordnung Nr. 3 zur Anwendung des A...\n",
              "430          de  'EWG Rat: Verordnung Nr. 1 zur Regelung der Sp...\n",
              "468          de  'Entscheidung über die Gründung des \"Amtsblatt...\n",
              "483          de  'EAG Rat: Satzung der Euratom-Versorgungsagentur'\n",
              "720          de  'ENTSCHEIDUNG über die Gründung des \"Amtsblatt...\n",
              "...         ...                                                ...\n",
              "176226       pt                      'Regulamento (CEE) nº 1107/70\n",
              "176378       pt                  'Directiva 70/373/CEE do Conselho\n",
              "176466       pt  'Acordo complementar ao Acordo relativo aos Pr...\n",
              "176548       pt                  'Directiva 70/387/CEE do Conselho\n",
              "176725       pt                  'Directiva 70/221/CEE do Conselho\n",
              "\n",
              "[776 rows x 2 columns]"
            ]
          },
          "metadata": {
            "tags": []
          },
          "execution_count": 24
        }
      ]
    },
    {
      "cell_type": "code",
      "metadata": {
        "id": "EQmdafmdU_ds"
      },
      "source": [
        "# for i in range(len(title_df)):\n",
        "#   res = title_df['title'][i].strip('][').split(', ')   \n",
        "#   if len(res) > 1:\n",
        "#     title_df['title'][i] = res[1]"
      ],
      "execution_count": null,
      "outputs": []
    },
    {
      "cell_type": "code",
      "metadata": {
        "id": "O6-NDE-gyP8F"
      },
      "source": [
        "language_to_sentences = dict(tuple(title_df.groupby('language')))"
      ],
      "execution_count": null,
      "outputs": []
    },
    {
      "cell_type": "code",
      "metadata": {
        "id": "CR4_QTeuRTlF"
      },
      "source": [
        "for i in lang_list:\n",
        "  language_to_sentences[i].to_csv('/content/drive/MyDrive/corpus/title.'+i, index=False)"
      ],
      "execution_count": null,
      "outputs": []
    },
    {
      "cell_type": "code",
      "metadata": {
        "id": "yB-fcZ6UVUx-"
      },
      "source": [
        "for i in lang_list:\n",
        "  test = pd.read_csv('/content/drive/MyDrive/corpus/title.'+i)\n",
        "  test = test.drop('language',axis=1)\n",
        "  test.to_csv('/content/drive/MyDrive/corpus/title.'+i, index=False)\n"
      ],
      "execution_count": null,
      "outputs": []
    },
    {
      "cell_type": "code",
      "metadata": {
        "id": "dxoxy3W5Zy01"
      },
      "source": [
        "example = pd.read_csv('/content/drive/MyDrive/corpus/title.en')"
      ],
      "execution_count": null,
      "outputs": []
    },
    {
      "cell_type": "code",
      "metadata": {
        "colab": {
          "base_uri": "https://localhost:8080/",
          "height": 201
        },
        "id": "7m3EmXDEScuE",
        "outputId": "fbdd550f-d726-47ac-af9a-233e3f0e88e2"
      },
      "source": [
        "example.head()"
      ],
      "execution_count": null,
      "outputs": [
        {
          "output_type": "execute_result",
          "data": {
            "text/html": [
              "<div>\n",
              "<style scoped>\n",
              "    .dataframe tbody tr th:only-of-type {\n",
              "        vertical-align: middle;\n",
              "    }\n",
              "\n",
              "    .dataframe tbody tr th {\n",
              "        vertical-align: top;\n",
              "    }\n",
              "\n",
              "    .dataframe thead th {\n",
              "        text-align: right;\n",
              "    }\n",
              "</style>\n",
              "<table border=\"1\" class=\"dataframe\">\n",
              "  <thead>\n",
              "    <tr style=\"text-align: right;\">\n",
              "      <th></th>\n",
              "      <th>title</th>\n",
              "    </tr>\n",
              "  </thead>\n",
              "  <tbody>\n",
              "    <tr>\n",
              "      <th>0</th>\n",
              "      <td>\"Decision creating the 'Official Journal of th...</td>\n",
              "    </tr>\n",
              "    <tr>\n",
              "      <th>1</th>\n",
              "      <td>'EAEC Council: The Statutes of the Euratom Sup...</td>\n",
              "    </tr>\n",
              "    <tr>\n",
              "      <th>2</th>\n",
              "      <td>'EEC Council: Regulation No 1 determining the ...</td>\n",
              "    </tr>\n",
              "    <tr>\n",
              "      <th>3</th>\n",
              "      <td>'EAEC Council: Regulation No 3 implementing Ar...</td>\n",
              "    </tr>\n",
              "    <tr>\n",
              "      <th>4</th>\n",
              "      <td>'EEC Council: Regulation No 17: First Regulati...</td>\n",
              "    </tr>\n",
              "  </tbody>\n",
              "</table>\n",
              "</div>"
            ],
            "text/plain": [
              "                                               title\n",
              "0  \"Decision creating the 'Official Journal of th...\n",
              "1  'EAEC Council: The Statutes of the Euratom Sup...\n",
              "2  'EEC Council: Regulation No 1 determining the ...\n",
              "3  'EAEC Council: Regulation No 3 implementing Ar...\n",
              "4  'EEC Council: Regulation No 17: First Regulati..."
            ]
          },
          "metadata": {
            "tags": []
          },
          "execution_count": 31
        }
      ]
    },
    {
      "cell_type": "markdown",
      "metadata": {
        "id": "2DwLIu6uyOQV"
      },
      "source": [
        "### Text model"
      ]
    },
    {
      "cell_type": "code",
      "metadata": {
        "colab": {
          "base_uri": "https://localhost:8080/"
        },
        "id": "i2uB0QocyNbW",
        "outputId": "0b76725a-dd13-4626-fdf3-bbcb4c66ff38"
      },
      "source": [
        "batch_size = 2048\n",
        "language_to_embeddings_text = {}\n",
        "for language_code in lang_list:\n",
        "  print('\\nComputing {} embeddings'.format(language_code))\n",
        "  with tqdm(total=len(language_to_sentences_text[language_code])) as pbar:\n",
        "    for batch in pd.read_csv(language_to_news_path_text[language_code], sep='\\t',header=None, chunksize=batch_size):\n",
        "      language_to_embeddings_text.setdefault(language_code, []).extend(embed_text(batch[0]))\n",
        "      pbar.update(len(batch))"
      ],
      "execution_count": 8,
      "outputs": [
        {
          "output_type": "stream",
          "text": [
            "\r  0%|          | 0/1001 [00:00<?, ?it/s]"
          ],
          "name": "stderr"
        },
        {
          "output_type": "stream",
          "text": [
            "\n",
            "Computing de embeddings\n"
          ],
          "name": "stdout"
        },
        {
          "output_type": "stream",
          "text": [
            "100%|██████████| 1001/1001 [00:02<00:00, 425.10it/s]\n",
            "100%|██████████| 1001/1001 [00:00<00:00, 8450.01it/s]\n",
            "  0%|          | 0/1001 [00:00<?, ?it/s]"
          ],
          "name": "stderr"
        },
        {
          "output_type": "stream",
          "text": [
            "\n",
            "Computing en embeddings\n",
            "\n",
            "Computing es embeddings\n"
          ],
          "name": "stdout"
        },
        {
          "output_type": "stream",
          "text": [
            "100%|██████████| 1001/1001 [00:00<00:00, 10401.46it/s]\n",
            "100%|██████████| 1001/1001 [00:00<00:00, 9545.17it/s]\n",
            "  0%|          | 0/1001 [00:00<?, ?it/s]"
          ],
          "name": "stderr"
        },
        {
          "output_type": "stream",
          "text": [
            "\n",
            "Computing fr embeddings\n",
            "\n",
            "Computing it embeddings\n"
          ],
          "name": "stdout"
        },
        {
          "output_type": "stream",
          "text": [
            "100%|██████████| 1001/1001 [00:00<00:00, 8366.53it/s]\n",
            "100%|██████████| 1001/1001 [00:00<00:00, 9420.86it/s]\n",
            "  0%|          | 0/1001 [00:00<?, ?it/s]"
          ],
          "name": "stderr"
        },
        {
          "output_type": "stream",
          "text": [
            "\n",
            "Computing nl embeddings\n",
            "\n",
            "Computing pl embeddings\n"
          ],
          "name": "stdout"
        },
        {
          "output_type": "stream",
          "text": [
            "100%|██████████| 1001/1001 [00:00<00:00, 9480.44it/s]\n",
            "100%|██████████| 1001/1001 [00:00<00:00, 9681.25it/s]"
          ],
          "name": "stderr"
        },
        {
          "output_type": "stream",
          "text": [
            "\n",
            "Computing pt embeddings\n"
          ],
          "name": "stdout"
        },
        {
          "output_type": "stream",
          "text": [
            "\n"
          ],
          "name": "stderr"
        }
      ]
    },
    {
      "cell_type": "code",
      "metadata": {
        "colab": {
          "base_uri": "https://localhost:8080/"
        },
        "id": "76q0l-2t7Z1u",
        "outputId": "05f51134-4667-46b9-a217-e50be868806e"
      },
      "source": [
        "%%time\n",
        "\n",
        "num_index_trees = 40\n",
        "language_name_to_index_text = {}\n",
        "embedding_dimensions_text = len(list(language_to_embeddings_text.values())[0][0])\n",
        "for language_code in lang_list:\n",
        "\n",
        "  print('\\nAdding {} embeddings to index'.format(language_code))\n",
        "  index_text = SimpleNeighbors(embedding_dimensions_text, metric='dot')\n",
        "\n",
        "  for i in trange(len(language_to_sentences_text[language_code])):\n",
        "    index_text.add_one(language_to_sentences_text[language_code][i], language_to_embeddings_text[language_code][i])\n",
        "\n",
        "  print('Building {} index with {} trees...'.format(language_code, num_index_trees))\n",
        "  index_text.build(n=num_index_trees)\n",
        "  language_name_to_index_text[language_code] = index_text"
      ],
      "execution_count": 9,
      "outputs": [
        {
          "output_type": "stream",
          "text": [
            "100%|██████████| 1001/1001 [00:00<00:00, 14149.17it/s]\n",
            "100%|██████████| 1001/1001 [00:00<00:00, 15397.33it/s]\n",
            "  0%|          | 0/1001 [00:00<?, ?it/s]"
          ],
          "name": "stderr"
        },
        {
          "output_type": "stream",
          "text": [
            "\n",
            "Adding de embeddings to index\n",
            "Building de index with 40 trees...\n",
            "\n",
            "Adding en embeddings to index\n",
            "Building en index with 40 trees...\n",
            "\n",
            "Adding es embeddings to index\n"
          ],
          "name": "stdout"
        },
        {
          "output_type": "stream",
          "text": [
            "100%|██████████| 1001/1001 [00:00<00:00, 14307.76it/s]\n",
            "100%|██████████| 1001/1001 [00:00<00:00, 14648.26it/s]\n",
            "100%|██████████| 1001/1001 [00:00<00:00, 13202.20it/s]\n",
            "  0%|          | 0/1001 [00:00<?, ?it/s]"
          ],
          "name": "stderr"
        },
        {
          "output_type": "stream",
          "text": [
            "Building es index with 40 trees...\n",
            "\n",
            "Adding fr embeddings to index\n",
            "Building fr index with 40 trees...\n",
            "\n",
            "Adding it embeddings to index\n",
            "Building it index with 40 trees...\n",
            "\n",
            "Adding nl embeddings to index\n"
          ],
          "name": "stdout"
        },
        {
          "output_type": "stream",
          "text": [
            "100%|██████████| 1001/1001 [00:00<00:00, 13032.70it/s]\n",
            "100%|██████████| 1001/1001 [00:00<00:00, 14629.47it/s]\n",
            "100%|██████████| 1001/1001 [00:00<00:00, 15206.94it/s]"
          ],
          "name": "stderr"
        },
        {
          "output_type": "stream",
          "text": [
            "Building nl index with 40 trees...\n",
            "\n",
            "Adding pl embeddings to index\n",
            "Building pl index with 40 trees...\n",
            "\n",
            "Adding pt embeddings to index\n",
            "Building pt index with 40 trees...\n",
            "CPU times: user 720 ms, sys: 26.7 ms, total: 746 ms\n",
            "Wall time: 702 ms\n"
          ],
          "name": "stdout"
        },
        {
          "output_type": "stream",
          "text": [
            "\n"
          ],
          "name": "stderr"
        }
      ]
    },
    {
      "cell_type": "code",
      "metadata": {
        "colab": {
          "base_uri": "https://localhost:8080/"
        },
        "id": "-_LX65Pe7482",
        "outputId": "997f8b7b-3de7-4d65-a815-ca083fe33347"
      },
      "source": [
        "%%time\n",
        "\n",
        "num_index_trees = 60\n",
        "print('Computing mixed-language index')\n",
        "combined_index_text = SimpleNeighbors(embedding_dimensions_text, metric='dot')\n",
        "for language_code in lang_list:\n",
        "#for language_code, zip_file, news_file, language_name in corpus_metadata:\n",
        "  print('Adding {} embeddings to mixed-language index'.format(language_code))\n",
        "  for i in trange(len(language_to_sentences_text[language_code])):\n",
        "    annotated_sentence_text = '({}) {}'.format(language_code, language_to_sentences_text[language_code][i])\n",
        "    combined_index_text.add_one(annotated_sentence_text, language_to_embeddings_text[language_code][i])\n",
        "\n",
        "print('Building mixed-language index with {} trees...'.format(num_index_trees))\n",
        "combined_index_text.build(n=num_index_trees)"
      ],
      "execution_count": 10,
      "outputs": [
        {
          "output_type": "stream",
          "text": [
            "100%|██████████| 1001/1001 [00:00<00:00, 14072.49it/s]\n",
            "100%|██████████| 1001/1001 [00:00<00:00, 14714.28it/s]\n",
            "  0%|          | 0/1001 [00:00<?, ?it/s]"
          ],
          "name": "stderr"
        },
        {
          "output_type": "stream",
          "text": [
            "Computing mixed-language index\n",
            "Adding de embeddings to mixed-language index\n",
            "Adding en embeddings to mixed-language index\n",
            "Adding es embeddings to mixed-language index\n"
          ],
          "name": "stdout"
        },
        {
          "output_type": "stream",
          "text": [
            "100%|██████████| 1001/1001 [00:00<00:00, 14156.33it/s]\n",
            "100%|██████████| 1001/1001 [00:00<00:00, 13328.52it/s]\n",
            "100%|██████████| 1001/1001 [00:00<00:00, 14461.82it/s]\n",
            "  0%|          | 0/1001 [00:00<?, ?it/s]"
          ],
          "name": "stderr"
        },
        {
          "output_type": "stream",
          "text": [
            "Adding fr embeddings to mixed-language index\n",
            "Adding it embeddings to mixed-language index\n",
            "Adding nl embeddings to mixed-language index\n"
          ],
          "name": "stdout"
        },
        {
          "output_type": "stream",
          "text": [
            "100%|██████████| 1001/1001 [00:00<00:00, 13930.82it/s]\n",
            "100%|██████████| 1001/1001 [00:00<00:00, 13100.66it/s]\n",
            "100%|██████████| 1001/1001 [00:00<00:00, 12411.09it/s]\n"
          ],
          "name": "stderr"
        },
        {
          "output_type": "stream",
          "text": [
            "Adding pl embeddings to mixed-language index\n",
            "Adding pt embeddings to mixed-language index\n",
            "Building mixed-language index with 60 trees...\n",
            "CPU times: user 1.29 s, sys: 32.2 ms, total: 1.32 s\n",
            "Wall time: 996 ms\n"
          ],
          "name": "stdout"
        }
      ]
    },
    {
      "cell_type": "markdown",
      "metadata": {
        "id": "l-WiINXT18uU"
      },
      "source": [
        "### Title model"
      ]
    },
    {
      "cell_type": "code",
      "metadata": {
        "colab": {
          "base_uri": "https://localhost:8080/"
        },
        "id": "Y2ecXX4kYcud",
        "outputId": "fde84843-04d1-46b5-b5b4-131452b4beeb"
      },
      "source": [
        "batch_size = 2048\n",
        "language_to_embeddings = {}\n",
        "for language_code in lang_list:\n",
        "  print('\\nComputing {} embeddings'.format(language_code))\n",
        "  with tqdm(total=len(language_to_sentences[language_code])) as pbar:\n",
        "    for batch in pd.read_csv(language_to_news_path[language_code], sep='\\t',header=None, chunksize=batch_size):\n",
        "      language_to_embeddings.setdefault(language_code, []).extend(embed_text(batch[0]))\n",
        "      pbar.update(len(batch))"
      ],
      "execution_count": 12,
      "outputs": [
        {
          "output_type": "stream",
          "text": [
            "100%|██████████| 98/98 [00:00<00:00, 2595.93it/s]\n",
            "100%|██████████| 98/98 [00:00<00:00, 3205.43it/s]\n",
            "100%|██████████| 96/96 [00:00<00:00, 4502.49it/s]\n",
            "100%|██████████| 98/98 [00:00<00:00, 5225.68it/s]\n",
            "100%|██████████| 99/99 [00:00<00:00, 5045.21it/s]\n",
            "100%|██████████| 98/98 [00:00<00:00, 3216.19it/s]\n",
            "100%|██████████| 101/101 [00:00<00:00, 5503.91it/s]\n",
            "  0%|          | 0/96 [00:00<?, ?it/s]"
          ],
          "name": "stderr"
        },
        {
          "output_type": "stream",
          "text": [
            "\n",
            "Computing de embeddings\n",
            "\n",
            "Computing en embeddings\n",
            "\n",
            "Computing es embeddings\n",
            "\n",
            "Computing fr embeddings\n",
            "\n",
            "Computing it embeddings\n",
            "\n",
            "Computing nl embeddings\n",
            "\n",
            "Computing pl embeddings\n",
            "\n",
            "Computing pt embeddings\n"
          ],
          "name": "stdout"
        },
        {
          "output_type": "stream",
          "text": [
            "\r100%|██████████| 96/96 [00:00<00:00, 4411.72it/s]\n"
          ],
          "name": "stderr"
        }
      ]
    },
    {
      "cell_type": "code",
      "metadata": {
        "colab": {
          "base_uri": "https://localhost:8080/"
        },
        "id": "TIJznXfWVvOP",
        "outputId": "faa056bc-c327-462c-9bb4-b6c854850dc7"
      },
      "source": [
        "%%time\n",
        "\n",
        "num_index_trees = 40\n",
        "language_name_to_index = {}\n",
        "embedding_dimensions = len(list(language_to_embeddings.values())[0][0])\n",
        "for language_code in lang_list:\n",
        "\n",
        "  print('\\nAdding {} embeddings to index'.format(language_code))\n",
        "  index = SimpleNeighbors(embedding_dimensions, metric='dot')\n",
        "\n",
        "  for i in trange(len(language_to_sentences[language_code])):\n",
        "    index.add_one(language_to_sentences[language_code][i], language_to_embeddings[language_code][i])\n",
        "\n",
        "  print('Building {} index with {} trees...'.format(language_code, num_index_trees))\n",
        "  index.build(n=num_index_trees)\n",
        "  language_name_to_index[language_code] = index"
      ],
      "execution_count": 13,
      "outputs": [
        {
          "output_type": "stream",
          "text": [
            "100%|██████████| 98/98 [00:00<00:00, 7574.85it/s]\n",
            "100%|██████████| 98/98 [00:00<00:00, 10824.30it/s]\n",
            "100%|██████████| 96/96 [00:00<00:00, 11818.41it/s]\n",
            "100%|██████████| 98/98 [00:00<00:00, 13597.60it/s]\n",
            "100%|██████████| 99/99 [00:00<00:00, 13925.22it/s]\n",
            "100%|██████████| 98/98 [00:00<00:00, 12707.65it/s]\n",
            "100%|██████████| 101/101 [00:00<00:00, 13168.72it/s]\n",
            "100%|██████████| 96/96 [00:00<00:00, 13386.52it/s]"
          ],
          "name": "stderr"
        },
        {
          "output_type": "stream",
          "text": [
            "\n",
            "Adding de embeddings to index\n",
            "Building de index with 40 trees...\n",
            "\n",
            "Adding en embeddings to index\n",
            "Building en index with 40 trees...\n",
            "\n",
            "Adding es embeddings to index\n",
            "Building es index with 40 trees...\n",
            "\n",
            "Adding fr embeddings to index\n",
            "Building fr index with 40 trees...\n",
            "\n",
            "Adding it embeddings to index\n",
            "Building it index with 40 trees...\n",
            "\n",
            "Adding nl embeddings to index\n",
            "Building nl index with 40 trees...\n",
            "\n",
            "Adding pl embeddings to index\n",
            "Building pl index with 40 trees...\n",
            "\n",
            "Adding pt embeddings to index\n",
            "Building pt index with 40 trees...\n",
            "CPU times: user 77.3 ms, sys: 7.09 ms, total: 84.4 ms\n",
            "Wall time: 104 ms\n"
          ],
          "name": "stdout"
        },
        {
          "output_type": "stream",
          "text": [
            "\n"
          ],
          "name": "stderr"
        }
      ]
    },
    {
      "cell_type": "code",
      "metadata": {
        "colab": {
          "base_uri": "https://localhost:8080/"
        },
        "id": "KmiAFEp5nU_0",
        "outputId": "c12db7fc-f171-4325-e274-e5bdbc9f9b2e"
      },
      "source": [
        "%%time\n",
        "\n",
        "num_index_trees = 60\n",
        "print('Computing mixed-language index')\n",
        "combined_index = SimpleNeighbors(embedding_dimensions, metric='dot')\n",
        "for language_code in lang_list:\n",
        "#for language_code, zip_file, news_file, language_name in corpus_metadata:\n",
        "  print('Adding {} embeddings to mixed-language index'.format(language_code))\n",
        "  for i in trange(len(language_to_sentences[language_code])):\n",
        "    annotated_sentence = '({}) {}'.format(language_code, language_to_sentences[language_code][i])\n",
        "    combined_index.add_one(annotated_sentence, language_to_embeddings[language_code][i])\n",
        "\n",
        "print('Building mixed-language index with {} trees...'.format(num_index_trees))\n",
        "combined_index.build(n=num_index_trees)"
      ],
      "execution_count": 14,
      "outputs": [
        {
          "output_type": "stream",
          "text": [
            "100%|██████████| 98/98 [00:00<00:00, 7749.07it/s]\n",
            "100%|██████████| 98/98 [00:00<00:00, 11354.12it/s]\n",
            "100%|██████████| 96/96 [00:00<00:00, 10205.12it/s]\n",
            "100%|██████████| 98/98 [00:00<00:00, 10187.41it/s]\n",
            "100%|██████████| 99/99 [00:00<00:00, 13693.32it/s]\n",
            "100%|██████████| 98/98 [00:00<00:00, 9387.73it/s]\n",
            "100%|██████████| 101/101 [00:00<00:00, 11165.35it/s]\n",
            "100%|██████████| 96/96 [00:00<00:00, 13153.44it/s]"
          ],
          "name": "stderr"
        },
        {
          "output_type": "stream",
          "text": [
            "Computing mixed-language index\n",
            "Adding de embeddings to mixed-language index\n",
            "Adding en embeddings to mixed-language index\n",
            "Adding es embeddings to mixed-language index\n",
            "Adding fr embeddings to mixed-language index\n",
            "Adding it embeddings to mixed-language index\n",
            "Adding nl embeddings to mixed-language index\n",
            "Adding pl embeddings to mixed-language index\n",
            "Adding pt embeddings to mixed-language index\n",
            "Building mixed-language index with 60 trees...\n",
            "CPU times: user 103 ms, sys: 2.92 ms, total: 106 ms\n",
            "Wall time: 111 ms\n"
          ],
          "name": "stdout"
        },
        {
          "output_type": "stream",
          "text": [
            "\n"
          ],
          "name": "stderr"
        }
      ]
    },
    {
      "cell_type": "code",
      "metadata": {
        "colab": {
          "base_uri": "https://localhost:8080/"
        },
        "id": "fLEiTBzXnZhy",
        "outputId": "6d5ebb87-d90a-4a99-b584-33186c98bd20"
      },
      "source": [
        "sample_query = 'EEC: Council Decision of 4 December 1962 on the co- ordination of policies on the structure of agriculture'  \n",
        "index_language = 'en'  \n",
        "num_results = 10  \n",
        "\n",
        "query_embedding = embed_text(sample_query)[0]\n",
        "search_results = language_name_to_index[index_language].nearest(query_embedding, n=num_results)\n",
        "\n",
        "print('{} sentences similar to: \"{}\"\\n'.format(index_language, sample_query))\n",
        "search_results"
      ],
      "execution_count": null,
      "outputs": [
        {
          "output_type": "stream",
          "text": [
            "en sentences similar to: \"EEC: Council Decision of 4 December 1962 on the co- ordination of policies on the structure of agriculture\"\n",
            "\n"
          ],
          "name": "stdout"
        },
        {
          "output_type": "execute_result",
          "data": {
            "text/plain": [
              "[\"'EEC: Council Decision of 4 December 1962 on the co- ordination of policies on the structure of agriculture'\",\n",
              " \"'EEC Council: Regulation No 25 on the financing of the common agricultural policy'\",\n",
              " \"'66/399/EEC: Council Decision of 14 June 1966 setting up a Standing Committee on Seeds and Propagating Material for Agriculture\",\n",
              " \"'63/266/EEC: Council Decision of 2 April 1963 laying down general principles for implementing a common vocational training policy'\",\n",
              " \"'EEC: Regulation No 49 of the Council amending the date on which certain instruments relating to the common agricultural policy are to enter into force'\",\n",
              " \"'Regulation (EEC) No 2603/69 of the Council of 20 December 1969 establishing common rules for exports'\",\n",
              " \"'Regulation (EEC) No 2602/69 of the Council of 18 December 1969 on retaining the Management Committee procedure'\",\n",
              " \"'EEC Council: Regulation No 26 applying certain rules of competition to production of and trade in agricultural products'\",\n",
              " \"'68/359/EEC: Council Decision of 15 October 1968 applying Articles 48 and 49 of the Treaty to the French overseas departments'\",\n",
              " \"'Council Directive 69/60/EEC of 18 February 1969 amending the Council Directive of 14 June 1966 on the marketing of cereal seed'\"]"
            ]
          },
          "metadata": {
            "tags": []
          },
          "execution_count": 59
        }
      ]
    },
    {
      "cell_type": "code",
      "metadata": {
        "colab": {
          "base_uri": "https://localhost:8080/"
        },
        "id": "XwTp9o9-sLcM",
        "outputId": "76f87006-e1d9-4898-98d8-4626d4995a88"
      },
      "source": [
        "query = 'Rules of the Advisory Committee on Vocational Training'  \n",
        "index_language = 'en'\n",
        "num_results = 20  \n",
        "\n",
        "query_embedding = embed_text(query)[0]\n",
        "search_results = combined_index.nearest(query_embedding, n=num_results)\n",
        "\n",
        "print('{} sentences similar to: \"{}\"\\n'.format(index_language, query))\n",
        "search_results"
      ],
      "execution_count": null,
      "outputs": [
        {
          "output_type": "stream",
          "text": [
            "en sentences similar to: \"Rules of the Advisory Committee on Vocational Training\"\n",
            "\n"
          ],
          "name": "stdout"
        },
        {
          "output_type": "execute_result",
          "data": {
            "text/plain": [
              "[\"(en) '63/688/EEC: Rules of the Advisory Committee on Vocational Training'\",\n",
              " \"(fr) '63/688/CEE: Statut du comité consultatif pour la formation professionnelle'\",\n",
              " \"(pt) '63/688/CEE: Estatuto do Comité consultivo para a formação profissional'\",\n",
              " \"(it) '63/688/CEE: Statuto del Comitato consultivo per la formazione professionale'\",\n",
              " \"(nl) '63/688/EEG: Statuut van het Raadgevend Comité voor de beroepsopleiding'\",\n",
              " \"(es) '63/688/CEE: Estatuto del Comité consultivo de formación profesional'\",\n",
              " \"(de) '63/688/EWG: Satzung des Beratenden Ausschusses für die Berufsausbildung'\",\n",
              " \"(nl) 'EEG Raad: Verordening Nr. 26 inzake de toepassing van bepaalde regels betreffende de mededinging op de voortbrenging van en de handel in landbouwprodukten'\",\n",
              " \"(en) 'EEC: Council Decision instituting a procedure or prior examination and consultation in respect of certain laws\",\n",
              " \"(en) 'EEC Council: Regulation No 26 applying certain rules of competition to production of and trade in agricultural products'\",\n",
              " '(fr) \"CEE: Décision du Conseil instituant une procédure d\\'examen et de consultation préalables pour certaines dispositions législatives',\n",
              " \"(es) 'Reglamento n° 26 del Consejo sobre aplicación de determinadas normas sobre la competencia a la producción y al comercio de productos agrícolas'\",\n",
              " \"(fr) 'CEE Conseil: Règlement n° 26 portant application de certaines règles de concurrence à la production et au commerce des produits agricoles'\",\n",
              " \"(es) 'Reglamento nº467/67/CEE de la Comisión\",\n",
              " '(fr) \"Règlement n° 467/67/CEE de la Commission',\n",
              " \"(fr) 'CEE Conseil: Règlement n° 1 portant fixation du régime linguistique de la Communauté Économique Européenne'\",\n",
              " \"(en) 'Regulation (EEC\",\n",
              " \"(de) 'Verordnung (EWG\",\n",
              " \"(de) 'EWG Rat: Verordnung Nr. 1 zur Regelung der Sprachenfrage für die Europäische Wirtschaftsgemeinschaft'\",\n",
              " \"(en) '63/266/EEC: Council Decision of 2 April 1963 laying down general principles for implementing a common vocational training policy'\"]"
            ]
          },
          "metadata": {
            "tags": []
          },
          "execution_count": 60
        }
      ]
    },
    {
      "cell_type": "code",
      "metadata": {
        "id": "eDgxnQc-sQjG"
      },
      "source": [
        ""
      ],
      "execution_count": null,
      "outputs": []
    },
    {
      "cell_type": "markdown",
      "metadata": {
        "id": "nDQXAHfBq9dR"
      },
      "source": [
        "### Find topics from different languages"
      ]
    },
    {
      "cell_type": "code",
      "metadata": {
        "id": "6O3TUS2trpgX"
      },
      "source": [
        "#find cosine similarities for a query and results\n",
        "\n",
        "def average(lst): \n",
        "    if len(lst) != 0:\n",
        "      av = sum(lst) / len(lst)\n",
        "    else:\n",
        "      av = 0\n",
        "    return av\n",
        "\n",
        "\n",
        "#shows Mean Reciprocal Rank as a bar chart\n",
        "\n",
        "def show(dic):\n",
        "  plt.figure(figsize = (10,10))\n",
        "  plt.suptitle('Mean Reciprocal Rank')\n",
        "  plt.bar(range(len(dic)), list(dic.values()), align='center')\n",
        "  plt.xticks(range(len(dic)), list(dic.keys()))\n",
        "  plt.show()\n",
        "\n",
        "\n",
        "#function which finds a cosine similarity\n",
        "\n",
        "def cos_sim(emb1,emb2):\n",
        "  cosine_loss = tf1.keras.losses.CosineSimilarity(axis=1)\n",
        "  return abs(cosine_loss(emb1,emb2).numpy())"
      ],
      "execution_count": 69,
      "outputs": []
    },
    {
      "cell_type": "code",
      "metadata": {
        "id": "cszJ2tWh6wYl"
      },
      "source": [
        "#function which finds relevant topics \n",
        "\n",
        "def find_dif(query, number, index_language):\n",
        "  \n",
        "  query_embed = embed_text(query)\n",
        "  query_embedding = embed_text(query)[0]\n",
        "  search_results_text = combined_index_text.nearest(query_embedding, n=number)\n",
        "  search_results_title = combined_index.nearest(query_embedding, n=number)\n",
        "  search_results = search_results_title + search_results_text\n",
        "\n",
        "  search_list = []\n",
        "\n",
        "  for i in search_results:\n",
        "    if i[5] == \" \":\n",
        "      if i[:-1] == \"'\":\n",
        "        search_list.append(i[6:-1])\n",
        "      else:\n",
        "        search_list.append(i[6:])\n",
        "    else:\n",
        "      if i[:-1] == \"'\":\n",
        "        search_list.append(i[5:-1])\n",
        "      else:\n",
        "        search_list.append(i[5:])\n",
        "  \n",
        "  cos_sim_dict = dict([(key, []) for key in lang_list])\n",
        "  cos_sim_numbers = dict([(key, []) for key in lang_list])\n",
        "\n",
        "  result_list = []\n",
        "\n",
        "  for result in search_list:\n",
        "    row = split_df.loc[split_df['text'] == result]\n",
        "    for index, row_iter in row.iterrows():\n",
        "      cos_sim_dict[row_iter['language']].append(row_iter['embeddings'])\n",
        "      result_list.append(row_iter['title'])\n",
        "  \n",
        "  result_list = r.sample(list(dict.fromkeys(result_list)),number)\n",
        "\n",
        "\n",
        "  for lang in lang_list:\n",
        "    for i in cos_sim_dict[lang]:\n",
        "      cos_sim_numbers[lang].append(cos_sim(query_embed,i))\n",
        "    cos_sim_numbers[lang] = average(cos_sim_numbers[lang])\n",
        "\n",
        "  show(cos_sim_numbers)\n",
        "\n",
        "  print(\"Topics similar to '{}' text: {}\\n\".format(index_language, query))\n",
        "\n",
        "  return result_list"
      ],
      "execution_count": 91,
      "outputs": []
    },
    {
      "cell_type": "code",
      "metadata": {
        "colab": {
          "base_uri": "https://localhost:8080/",
          "height": 1000
        },
        "id": "9Opyfk2XsK9Y",
        "outputId": "7863a51e-0a79-43c9-842a-88aa899fc065"
      },
      "source": [
        "#for english sentence\n",
        "find_dif('Rules of the Advisory Committee on Vocational Training', 20, 'en')"
      ],
      "execution_count": 71,
      "outputs": [
        {
          "output_type": "display_data",
          "data": {
            "image/png": "[encoded data removed]",
            "text/plain": [
              "<Figure size 720x720 with 1 Axes>"
            ]
          },
          "metadata": {
            "tags": [],
            "needs_background": "light"
          }
        },
        {
          "output_type": "stream",
          "text": [
            "Topics similar to 'en' text: Rules of the Advisory Committee on Vocational Training\n",
            "\n"
          ],
          "name": "stdout"
        },
        {
          "output_type": "execute_result",
          "data": {
            "text/plain": [
              "[\"'Richtlijn 64/225/EEG van de Raad van 25 februari 1964 ter opheffing van de beperkingen van de vrijheid van vestiging en van het vrij verrichten van diensten\",\n",
              " \"'63/688/CEE: Estatuto do Comité consultivo para a formação profissional'\",\n",
              " \"'Verordnung (EWG) Nr. 1612/68 des Rates vom 15. Oktober 1968 über die Freizügigkeit der Arbeitnehmer innerhalb der Gemeinschaft'\",\n",
              " '\"Regolamento (CEE) n. 1017/68 del Consiglio',\n",
              " '\"Règlement (CEE) n° 2603/69 du Conseil',\n",
              " \"'JRC-ACQUIS 31968R0259 Polish'\",\n",
              " \"'Regulamento (CEE\",\n",
              " \"'EGA Raad: Statuten van het Voorzieningsagentschap van Euratom'\",\n",
              " \"'Richtlijn 64/221/EEG van de Raad van 25 februari 1964 voor de coördinatie van de voor vreemdelingen geldende bijzondere maatregelen ten aanzien van verplaatsing en verblijf\",\n",
              " \"'Regulamento (CEE) nº 1017/68 do Conselho\",\n",
              " \"'Directiva 67/548/CEE do Conselho\",\n",
              " '\"Directive 64/432/CEE du Conseil',\n",
              " \"'Regulation No 7/63/Euratom of the Council of 3 December 1963 on rules of procedure of the Arbitration Committee provided for in Article 18 of the Treaty establishing the European Atomic Energy Community'\",\n",
              " '\"Direttiva 67/548/CEE del Consiglio',\n",
              " \"'Richtlijn 64/433/EEG van de Raad van 26 juni 1964 inzake gezondheidsvraagstukken op het gebied van het intracommunautaire handelsverkeer in vers vlees  /* GECODIFICEERDE VERSIE CF 375Y0820(02) */'\",\n",
              " '\"Regolamento n. 79/65/CEE del Consiglio',\n",
              " \"'Richtlijn 64/432/EEG van de Raad van 26 juni 1964 inzake veterinairrechtelijke vraagstukken op het gebied van het intracommunautaire handelsverkeer in runderen en varkens  /* GECODIFICEERDE VERSIE CF 375Y0820(01) */'\",\n",
              " '\"Regolamento (CEE) n. 1612/68 del Consiglio',\n",
              " \"'Directiva 64/221/CEE del Consejo\",\n",
              " \"'63/688/CEE: Estatuto del Comité consultivo de formación profesional'\"]"
            ]
          },
          "metadata": {
            "tags": []
          },
          "execution_count": 71
        }
      ]
    },
    {
      "cell_type": "code",
      "metadata": {
        "colab": {
          "base_uri": "https://localhost:8080/",
          "height": 1000
        },
        "id": "EovdwFATsOpb",
        "outputId": "ecd6c2c7-8d2d-4848-e924-cb4ed3fdf18f"
      },
      "source": [
        "#for french sentence\n",
        "find_dif(\"d'une réglementation d'ensemble uniforme. Pour le Comité économique et social\", 20, 'fr')"
      ],
      "execution_count": 63,
      "outputs": [
        {
          "output_type": "display_data",
          "data": {
            "image/png": "[encoded data removed]",
            "text/plain": [
              "<Figure size 720x720 with 1 Axes>"
            ]
          },
          "metadata": {
            "tags": [],
            "needs_background": "light"
          }
        },
        {
          "output_type": "stream",
          "text": [
            "Topics similar to 'fr' text: d'une réglementation d'ensemble uniforme. Pour le Comité économique et social\n",
            "\n"
          ],
          "name": "stdout"
        },
        {
          "output_type": "execute_result",
          "data": {
            "text/plain": [
              "[\"'JRC-ACQUIS 31962L2005 Polish'\",\n",
              " \"'Richtlinie 64/225/EWG des Rates vom 25. Februar 1964 zur Aufhebung der Beschränkungen der Niederlassungsfreiheit und des freien Dienstleistungsverkehrs auf dem Gebiet der Rückversicherung und Retrozession'\",\n",
              " \"'Richtlinie 69/464/EWG des Rates vom 8. Dezember 1969 zur Bekämpfung des Kartoffelkrebses'\",\n",
              " \"'Directiva 70/373/CEE do Conselho\",\n",
              " \"'Direttiva 64/225/CEE del Consiglio del 25 febbraio 1964\",\n",
              " \"'Richtlinie 66/401/EWG des Rates vom 14. Juni 1966 über den Verkehr mit Futterpflanzensaatgut  /* KODIFIZERTE FASSUNG CF 374Y0608(02) */'\",\n",
              " \"'Richtlijn 64/221/EEG van de Raad van 25 februari 1964 voor de coördinatie van de voor vreemdelingen geldende bijzondere maatregelen ten aanzien van verplaatsing en verblijf\",\n",
              " \"'JRC-ACQUIS 31970L0157 Polish'\",\n",
              " \"'Council Directive 69/493/EEC of 15 December 1969 on the approximation of the laws of the Member States relating to crystal glass'\",\n",
              " \"'Directive 69/63/CEE du Conseil\",\n",
              " '\"63/266/CEE: Décision du Conseil du 2 avril 1963 portant établissement des principes généraux pour la mise en oeuvre d\\'une politique commune de formation professionnelle\"',\n",
              " \"'CEEA Conseil: Directive sur le libre accès aux emplois qualifiés dans le domaine nucléaire'\",\n",
              " \"'Directiva 69/493/CEE do Conselho\",\n",
              " \"'Council Directive 69/60/EEC of 18 February 1969 amending the Council Directive of 14 June 1966 on the marketing of cereal seed'\",\n",
              " \"'JRC-ACQUIS 31963D0266 Polish'\",\n",
              " '\"Directive 64/432/CEE du Conseil',\n",
              " \"'63/266/CEE: Decisão do Conselho\",\n",
              " \"'Erste Richtlinie des Rates über die Aufstellung einiger gemeinsamer Regeln für den internationalen Verkehr (gewerblicher Güterkraftverkehr)'\",\n",
              " \"'First Council Directive 67/227/EEC of 11 April 1967 on the harmonisation of legislation of Member States concerning turnover taxes'\",\n",
              " '\"Première directive 67/227/CEE du Conseil']"
            ]
          },
          "metadata": {
            "tags": []
          },
          "execution_count": 63
        }
      ]
    },
    {
      "cell_type": "code",
      "metadata": {
        "colab": {
          "base_uri": "https://localhost:8080/",
          "height": 1000
        },
        "id": "lAtgEkojubhu",
        "outputId": "b32802b0-ecd5-4c47-842e-1775f4488292"
      },
      "source": [
        "#for portuguese sentence\n",
        "find_dif('após parecer da Comissão Paritária e tomando em consideração a competência', 20, 'pt')"
      ],
      "execution_count": 67,
      "outputs": [
        {
          "output_type": "display_data",
          "data": {
            "image/png": "[encoded data removed]",
            "text/plain": [
              "<Figure size 720x720 with 1 Axes>"
            ]
          },
          "metadata": {
            "tags": [],
            "needs_background": "light"
          }
        },
        {
          "output_type": "stream",
          "text": [
            "Topics similar to 'pt' text: após parecer da Comissão Paritária e tomando em consideração a competência\n",
            "\n"
          ],
          "name": "stdout"
        },
        {
          "output_type": "execute_result",
          "data": {
            "text/plain": [
              "[\"'Règlement (CEE) n° 1017/68 du Conseil\",\n",
              " \"'Reglamento nº 6/66/Euratom\",\n",
              " \"'Council Directive 68/297/EEC of 19 July 1968 on the standardisation of provisions regarding the duty-free admission of fuel contained in the fuel tanks of commercial motor vehicles'\",\n",
              " \"'Richtlinie 69/464/EWG des Rates vom 8. Dezember 1969 zur Bekämpfung des Kartoffelkrebses'\",\n",
              " \"'Directiva 63/474/CEE do Conselho\",\n",
              " \"'Verordening (EEG) nr. 1017/68 van de Raad van 19 juli 1968 houdende de toepassing van mededingingsregels op het gebied van het vervoer per spoor\",\n",
              " \"'Directiva 70/524/CEE do Conselho\",\n",
              " \"'Richtlinie 66/402/EWG des Rates vom 14. Juni 1966 über den Verkehr mit Getreidesaatgut  /* KODIFIZERTE FASSUNG CF 374Y0608(03) */'\",\n",
              " \"'EEC: Council Directive on the approximation of the rules of the Member States concerning the colouring matters authorized for use in foodstuffs intended for human consumption'\",\n",
              " \"'Directiva 69/493/CEE do Conselho\",\n",
              " \"'Richtlijn 64/432/EEG van de Raad van 26 juni 1964 inzake veterinairrechtelijke vraagstukken op het gebied van het intracommunautaire handelsverkeer in runderen en varkens  /* GECODIFICEERDE VERSIE CF 375Y0820(01) */'\",\n",
              " \"'JRC-ACQUIS 31963D0032 Polish'\",\n",
              " '\"CEE Conseil: Règlement n° 17: Premier règlement d\\'application des articles 85 et 86 du traité\"',\n",
              " \"'Directiva 69/465/CEE do Conselho\",\n",
              " \"'Directiva 70/388/CEE do Conselho\",\n",
              " \"'Directiva 69/63/CEE do Conselho\",\n",
              " \"'Richtlinie 69/60/EWG des Rates vom 18. Februar 1969 zur Änderung der Richtlinie des Rates vom 14. Juni 1966 über den Verkehr mit Getreidesaatgut'\",\n",
              " \"'Richtlinie 69/465/EWG des Rates vom 8. Dezember 1969 zur Bekämpfung des Kartoffelnematoden'\",\n",
              " \"'Directiva 70/387/CEE do Conselho\",\n",
              " \"'Regulamento (CEE\"]"
            ]
          },
          "metadata": {
            "tags": []
          },
          "execution_count": 67
        }
      ]
    },
    {
      "cell_type": "code",
      "metadata": {
        "colab": {
          "base_uri": "https://localhost:8080/",
          "height": 1000
        },
        "id": "PyKhKfl3vJdK",
        "outputId": "9fb393ad-26ca-4cc0-e0d2-17386f8deaa6"
      },
      "source": [
        "#for italian sentence\n",
        "find_dif('SU PROPOSTA DELLA COMMISSIONE', 20, 'it')"
      ],
      "execution_count": 65,
      "outputs": [
        {
          "output_type": "display_data",
          "data": {
            "image/png": "[encoded data removed]",
            "text/plain": [
              "<Figure size 720x720 with 1 Axes>"
            ]
          },
          "metadata": {
            "tags": [],
            "needs_background": "light"
          }
        },
        {
          "output_type": "stream",
          "text": [
            "Topics similar to 'it' text: SU PROPOSTA DELLA COMMISSIONE\n",
            "\n"
          ],
          "name": "stdout"
        },
        {
          "output_type": "execute_result",
          "data": {
            "text/plain": [
              "['\"Regolamento n. 136/66/CEE del Consiglio',\n",
              " '\"Règlement n° 79/65/CEE du Conseil',\n",
              " \"'Verordnung Nr. 1043/67/EWG der Kommission vom 22. Dezember 1967 über die Durchführungsbestimmungen zur Festsetzung der Grundquoten für Zucker'\",\n",
              " \"'63/688/EEG: Statuut van het Raadgevend Comité voor de beroepsopleiding'\",\n",
              " \"'Verordnung (EWG) Nr. 821/68 der Kommission vom 28. Juni 1968 über die bei der Gewährung der Erstattung bei der Ausfuhr geltende Definition der geschälten und geschliffenen Getreidekörner und der perlförmig geschliffenen Getreidekörner'\",\n",
              " \"'Regulation (EEC) No 537/70 of the Commission of 23 March 1970 authorising Member States to take measures derogating from certain requirements of the quality standards applicable to exports to third countries of flowering bulbs\",\n",
              " \"'70/244/ECSC\",\n",
              " \"'Council Directive 68/414/EEC of 20 December 1968 imposing an obligation on Member States of the EEC to maintain minimum stocks of crude oil and/or petroleum products'\",\n",
              " \"'Richtlinie 70/50/EWG der Kommission vom 22. Dezember 1969\",\n",
              " \"'Regulation (EEC) No 821/68 of the Commission of 28 June 1968 on the definition\",\n",
              " \"'Verordnung (EWG) Nr. 1431/68 der Kommission vom 13. September 1968 zur Ergänzung der Verordnung Nr. 1043/67/EWG durch die Definition des Begriffs des Zucker erzeugenden Unternehmens'\",\n",
              " '\"63/266/CEE: Decisione del Consiglio del 2 aprile 1963 relativa alla determinazione dei principi generali per l\\'attuazione di una politica comune di formazione professionale\"',\n",
              " '\"Regulation (EEC) No 1431/68 of the Commission of 13 September 1968 supplementing Regulation (EEC) No 1043/67/EEC by defining the expression \\'undertaking producing sugar\\'\"',\n",
              " \"'JRC-ACQUIS 31958Q1101 Polish'\",\n",
              " \"'Regulation (EEC) No 2598/70 of the Commission of 18 December 1970 specifying the items to be included under the various headings in the forms of accounts shown in Annex I to Council Regulation (EEC) No 1108/70 of 4 June 1970'\",\n",
              " \"'Regulation (EEC) No 1265/69 of the Commission of 1 July 1969 establishing methods for determining the quality of sugar bought in by intervention agencies'\",\n",
              " \"'Council Directive 68/221/EEC of 30 April 1968 on a common method for calculating the average rates provided for in Article 97 of the Treaty'\",\n",
              " \"'CEE Conseil: Règlement n° 25 relatif au financement de la politique agricole commune'\",\n",
              " \"'EAG Rat: Satzung der Euratom-Versorgungsagentur'\",\n",
              " \"'Verordnung (EWG) Nr. 391/68 der Kommission vom 1. April 1968 über die Durchführungsbestimmungen bei Interventionskäufen auf dem Schweinefleischsektor'\"]"
            ]
          },
          "metadata": {
            "tags": []
          },
          "execution_count": 65
        }
      ]
    },
    {
      "cell_type": "code",
      "metadata": {
        "colab": {
          "base_uri": "https://localhost:8080/",
          "height": 1000
        },
        "id": "vxq1pfOmvZsN",
        "outputId": "c2980387-8e56-4176-8f9c-dbaad790cd8f"
      },
      "source": [
        "#for spanish sentence\n",
        "find_dif(' visto el Reglamento n º 15 del Consejo', 20, 'es')"
      ],
      "execution_count": 64,
      "outputs": [
        {
          "output_type": "display_data",
          "data": {
            "image/png": "[encoded data removed]",
            "text/plain": [
              "<Figure size 720x720 with 1 Axes>"
            ]
          },
          "metadata": {
            "tags": [],
            "needs_background": "light"
          }
        },
        {
          "output_type": "stream",
          "text": [
            "Topics similar to 'es' text:  visto el Reglamento n º 15 del Consejo\n",
            "\n"
          ],
          "name": "stdout"
        },
        {
          "output_type": "execute_result",
          "data": {
            "text/plain": [
              "[\"'63/688/CEE: Statut du comité consultatif pour la formation professionnelle'\",\n",
              " '\"Règlement n° 136/66/CEE du Conseil',\n",
              " \"'Regulation (EEC) No 234/68 of the Council of 27 February 1968 on the establishment of a common organisation of the market in live trees and other plants\",\n",
              " '\"Directive 64/433/CEE du Conseil',\n",
              " \"'63/688/CEE: Estatuto del Comité consultivo de formación profesional'\",\n",
              " '\"Directive 64/225/CEE du Conseil',\n",
              " '\"Règlement (CEE) n° 821/68 de la Commission',\n",
              " \"'Règlement n° 741/67/CEE du Conseil\",\n",
              " \"'Reglamento (CEE) nº 1017/68 del Consejo\",\n",
              " '\"Directive 64/221/CEE du Conseil',\n",
              " \"'Reglamento nº 422/67/CEE\",\n",
              " \"'Directiva 64/221/CEE del Consejo\",\n",
              " \"'Reglamento (CEE) nº 1107/70 del Consejo\",\n",
              " \"'CEE Conseil: Règlement n° 25 relatif au financement de la politique agricole commune'\",\n",
              " \"'JRC-ACQUIS 31969R1192 Polish'\",\n",
              " \"'Regulation (EEC) No 1192/69 of the Council of 26 June 1969 on common rules for the normalisation of the accounts of railway undertakings'\",\n",
              " \"'Reglamento (CEE) nº 1192/69 del Consejo\",\n",
              " '\"Directive 64/432/CEE du Conseil',\n",
              " \"'Reglamento nº 79/65/CEE del Consejo\",\n",
              " \"'Règlement (CEE) n° 2602/69 du Conseil\"]"
            ]
          },
          "metadata": {
            "tags": []
          },
          "execution_count": 64
        }
      ]
    },
    {
      "cell_type": "code",
      "metadata": {
        "colab": {
          "base_uri": "https://localhost:8080/",
          "height": 1000
        },
        "id": "tKnp8-GmvmPI",
        "outputId": "ed0e32c3-2ce5-48f3-8d26-1553b63534dd"
      },
      "source": [
        "#for german sentence\n",
        "find_dif(' Die zum Zeitpunkt des Inkrafttretens dieser Verordnung geltenden Geschäftsordnungen des Beratenden Ausschusses und des Fachausschusses werden weiter angewandt.', 20, 'de')"
      ],
      "execution_count": 72,
      "outputs": [
        {
          "output_type": "display_data",
          "data": {
            "image/png": "[encoded data removed]",
            "text/plain": [
              "<Figure size 720x720 with 1 Axes>"
            ]
          },
          "metadata": {
            "tags": [],
            "needs_background": "light"
          }
        },
        {
          "output_type": "stream",
          "text": [
            "Topics similar to 'de' text:  Die zum Zeitpunkt des Inkrafttretens dieser Verordnung geltenden Geschäftsordnungen des Beratenden Ausschusses und des Fachausschusses werden weiter angewandt.\n",
            "\n"
          ],
          "name": "stdout"
        },
        {
          "output_type": "execute_result",
          "data": {
            "text/plain": [
              "[\"'63/32/EWG: Beschluß des Rats vom 18. Dezember 1962 zur Bestimmung der Anstellungsbehörde für den Kontrollausschuß'\",\n",
              " \"'Verordnung (EWG) Nr. 1431/68 der Kommission vom 13. September 1968 zur Ergänzung der Verordnung Nr. 1043/67/EWG durch die Definition des Begriffs des Zucker erzeugenden Unternehmens'\",\n",
              " \"'Verordnung (EWG) Nr. 1265/69 der Kommission vom 1. Juli 1969 über die Methoden zur Bestimmung der Qualität von Zucker\",\n",
              " '\"Regolamento (CEE) n. 234/68 del Consiglio',\n",
              " \"'Verordening (EEG) nr. 1192/69 van de Raad van 26 juni 1969 betreffende de gemeenschappelijke regels voor de normalisatie van de rekeningstelsels van de spoorwegondernemingen'\",\n",
              " \"'63/688/CEE: Estatuto do Comité consultivo para a formação profissional'\",\n",
              " \"'JRC-ACQUIS 31962D1217(02) Polish'\",\n",
              " \"'Verordnung (EWG) Nr. 1612/68 des Rates vom 15. Oktober 1968 über die Freizügigkeit der Arbeitnehmer innerhalb der Gemeinschaft'\",\n",
              " \"'Regulamento (CEE) nº 1192/69 do Conselho\",\n",
              " \"'JRC-ACQUIS 31970R1108 Polish'\",\n",
              " '\"Directive 64/432/CEE du Conseil',\n",
              " \"'Verordnung Nr. 1043/67/EWG der Kommission vom 22. Dezember 1967 über die Durchführungsbestimmungen zur Festsetzung der Grundquoten für Zucker'\",\n",
              " \"'Direttiva 66/601/CEE del Consiglio\",\n",
              " \"'JRC-ACQUIS 31968R0259 Polish'\",\n",
              " \"'63/688/CEE: Statut du comité consultatif pour la formation professionnelle'\",\n",
              " '\"CEE Conseil: Règlement n° 17: Premier règlement d\\'application des articles 85 et 86 du traité\"',\n",
              " \"'Directiva 69/63/CEE do Conselho\",\n",
              " \"'Regulation (EEC) No 1192/69 of the Council of 26 June 1969 on common rules for the normalisation of the accounts of railway undertakings'\",\n",
              " \"'Reglamento (CEE) nº 1017/68 del Consejo\",\n",
              " \"'Reglamento (CEE) n° 1253/70 del Consejo\"]"
            ]
          },
          "metadata": {
            "tags": []
          },
          "execution_count": 72
        }
      ]
    },
    {
      "cell_type": "code",
      "metadata": {
        "colab": {
          "base_uri": "https://localhost:8080/",
          "height": 1000
        },
        "id": "PuxEftEryCW8",
        "outputId": "23dd0d1e-3c6b-42f7-a72d-025c369b88de"
      },
      "source": [
        "#for polish sentence\n",
        "find_dif('po zasięgnięciu opinii Wspólnego Komitetu', 20, 'pl')"
      ],
      "execution_count": 75,
      "outputs": [
        {
          "output_type": "display_data",
          "data": {
            "image/png": "[encoded data removed]",
            "text/plain": [
              "<Figure size 720x720 with 1 Axes>"
            ]
          },
          "metadata": {
            "tags": [],
            "needs_background": "light"
          }
        },
        {
          "output_type": "stream",
          "text": [
            "Topics similar to 'pl' text: po zasięgnięciu opinii Wspólnego Komitetu\n",
            "\n"
          ],
          "name": "stdout"
        },
        {
          "output_type": "execute_result",
          "data": {
            "text/plain": [
              "[\"'JRC-ACQUIS 31968R0259 Polish'\",\n",
              " \"'JRC-ACQUIS 31962R0017 Polish'\",\n",
              " \"'JRC-ACQUIS 31967L0227 Polish'\",\n",
              " \"'JRC-ACQUIS 31964L0433 Polish'\",\n",
              " \"'Richtlijn 64/433/EEG van de Raad van 26 juni 1964 inzake gezondheidsvraagstukken op het gebied van het intracommunautaire handelsverkeer in vers vlees  /* GECODIFICEERDE VERSIE CF 375Y0820(02) */'\",\n",
              " \"'56/399/EEG: Besluit van de Raad van 14 juni 1966 houdende de instelling van een permanent comité voor teeltmateriaal voor land-\",\n",
              " \"'Regulation No 7/63/Euratom of the Council of 3 December 1963 on rules of procedure of the Arbitration Committee provided for in Article 18 of the Treaty establishing the European Atomic Energy Community'\",\n",
              " \"'Verordnung (EWG) Nr. 1017/68 des Rates vom 19. Juli 1968 über die Anwendung von Wettbewerbsregeln auf dem Gebiet des Eisenbahn-\",\n",
              " \"'JRC-ACQUIS 31969L0063 Polish'\",\n",
              " \"'JRC-ACQUIS 31963D0266 Polish'\",\n",
              " '\"Direttiva 64/221/CEE del Consiglio del 25 febbraio 1964 per il coordinamento dei provvedimenti speciali riguardanti il trasferimento e il soggiorno degli stranieri',\n",
              " \"'JRC-ACQUIS 31962L2005 Polish'\",\n",
              " \"'JRC-ACQUIS 31968L0193 Polish'\",\n",
              " '\"Règlement (CEE) n° 1612/68 du Conseil',\n",
              " \"'JRC-ACQUIS 31962L2645 Polish'\",\n",
              " \"'Council Directive 68/297/EEC of 19 July 1968 on the standardisation of provisions regarding the duty-free admission of fuel contained in the fuel tanks of commercial motor vehicles'\",\n",
              " '\"Directive 64/432/CEE du Conseil',\n",
              " '\"Regolamento n. 79/65/CEE del Consiglio',\n",
              " \"'Directiva 70/156/CEE do Conselho\",\n",
              " '\"DECISIONE relativa all\\'istituzione della «Gazzetta Ufficiale delle Comunità Europee»\"']"
            ]
          },
          "metadata": {
            "tags": []
          },
          "execution_count": 75
        }
      ]
    },
    {
      "cell_type": "code",
      "metadata": {
        "colab": {
          "base_uri": "https://localhost:8080/",
          "height": 1000
        },
        "id": "LEhKQmRZySJ1",
        "outputId": "0d315e98-ca19-4051-aa1c-12eb9e51ed52"
      },
      "source": [
        "#for dutch sentence\n",
        "find_dif(\"Voorzitter van het Economisch en Sociaal Comité\", 20, 'nl')"
      ],
      "execution_count": 83,
      "outputs": [
        {
          "output_type": "display_data",
          "data": {
            "image/png": "[encoded data removed]",
            "text/plain": [
              "<Figure size 720x720 with 1 Axes>"
            ]
          },
          "metadata": {
            "tags": [],
            "needs_background": "light"
          }
        },
        {
          "output_type": "stream",
          "text": [
            "Topics similar to 'nl' text: Voorzitter van het Economisch en Sociaal Comité\n",
            "\n"
          ],
          "name": "stdout"
        },
        {
          "output_type": "execute_result",
          "data": {
            "text/plain": [
              "[\"'EEC: First Council Directive on the establishment of certain common rules for international transport (carrying of goods by road for hire or reward)'\",\n",
              " \"'63/266/EEC: Council Decision of 2 April 1963 laying down general principles for implementing a common vocational training policy'\",\n",
              " \"'Richtlinie 69/464/EWG des Rates vom 8. Dezember 1969 zur Bekämpfung des Kartoffelkrebses'\",\n",
              " \"'Directiva 64/432/CEE do Conselho\",\n",
              " \"'Règlement (CEE) n° 1017/68 du Conseil\",\n",
              " \"'Regulation No 79/65/EEC of the Council of 15 June 1965 setting up a network for the collection of accountancy data on the incomes and business operation of agricultural holdings in the European Economic Community'\",\n",
              " \"'EAEC Council: Directive on freedom to take skilled employment in the field of nuclear energy'\",\n",
              " '\"Directive 67/653/CEE du Conseil',\n",
              " \"'Council Directive 68/221/EEC of 30 April 1968 on a common method for calculating the average rates provided for in Article 97 of the Treaty'\",\n",
              " \"'Erste Richtlinie 67/227/EWG des Rates vom 11. April 1967 zur Harmonisierung der Rechtsvorschriften der Mitgliedstaaten über die Umsatzsteuer'\",\n",
              " \"'Richtlijn 64/221/EEG van de Raad van 25 februari 1964 voor de coördinatie van de voor vreemdelingen geldende bijzondere maatregelen ten aanzien van verplaatsing en verblijf\",\n",
              " '\"Troisième directive 69/463/CEE du Conseil',\n",
              " \"'Council Directive 69/466/EEC of 8 December 1969 on control of San José Scale'\",\n",
              " \"'EEC Council: Regulation No 1 determining the languages to be used by the European Economic Community'\",\n",
              " '\"Directive 67/548/CEE du Conseil',\n",
              " \"'Regulamento (CEE) nº 1191/69 do Conselho\",\n",
              " \"'Regulamento (CEE) nº 1192/69 do Conselho\",\n",
              " \"'Eerste Richtlijn 68/151/EEG van de Raad van 9 maart 1968 strekkende tot het coördineren van de waarborgen\",\n",
              " \"'Council Directive 69/493/EEC of 15 December 1969 on the approximation of the laws of the Member States relating to crystal glass'\",\n",
              " \"'Verordening (EEG) nr. 1612/68 van de Raad van 15 oktober 1968 betreffende het vrije verkeer van werknemers binnen de Gemeenschap'\"]"
            ]
          },
          "metadata": {
            "tags": []
          },
          "execution_count": 83
        }
      ]
    },
    {
      "cell_type": "markdown",
      "metadata": {
        "id": "doOU-cE5zRJC"
      },
      "source": [
        "### Find topics from same language"
      ]
    },
    {
      "cell_type": "code",
      "metadata": {
        "id": "bNBo2MJkzUFy"
      },
      "source": [
        "#function which finds relevant topics from the same language\n",
        "\n",
        "def find_same(query, number, index_language):\n",
        "  \n",
        "  query_embed = embed_text(query)\n",
        "  query_embedding = embed_text(query)[0]\n",
        "  search_results_text = language_name_to_index_text[index_language].nearest(query_embedding, n=number)\n",
        "  search_results_title = language_name_to_index[index_language].nearest(query_embedding, n=number)\n",
        "  search_results = search_results_title + search_results_text\n",
        "  \n",
        "  result_list =[]\n",
        "  for result in search_results:\n",
        "    row = split_df.loc[split_df['text'] == result]\n",
        "    for index, row_iter in row.iterrows():\n",
        "      result_list.append(row_iter['title'])\n",
        "  result_list = r.sample(list(dict.fromkeys(result_list)),number)\n",
        "\n",
        "  return result_list"
      ],
      "execution_count": 99,
      "outputs": []
    },
    {
      "cell_type": "code",
      "metadata": {
        "colab": {
          "base_uri": "https://localhost:8080/"
        },
        "id": "Maly4oxf0WvF",
        "outputId": "e56bb944-4832-4ea7-df4e-cef7d89c2483"
      },
      "source": [
        "#for english sentence\n",
        "find_same('Rules of the Advisory Committee on Vocational Training', 20, 'en')"
      ],
      "execution_count": 98,
      "outputs": [
        {
          "output_type": "execute_result",
          "data": {
            "text/plain": [
              "[\"'Council Directive 66/402/EEC of 14 June 1966 on the marketing of cereal seed  /* CODIFIED VERSION CF 374Y0608(03) */'\",\n",
              " \"'Regulation No 7/63/Euratom of the Council of 3 December 1963 on rules of procedure of the Arbitration Committee provided for in Article 18 of the Treaty establishing the European Atomic Energy Community'\",\n",
              " \"'Regulation No 136/66/EEC of the Council of 22 September 1966 on the establishment of a common organisation of the market in oils and fats'\",\n",
              " \"'Regulation No 423/67/EEC\",\n",
              " \"'Council Directive 68/221/EEC of 30 April 1968 on a common method for calculating the average rates provided for in Article 97 of the Treaty'\",\n",
              " \"'EEC Council: Regulation No 17: First Regulation implementing Articles 85 and 86 of the Treaty'\",\n",
              " \"'Council Directive 68/297/EEC of 19 July 1968 on the standardisation of provisions regarding the duty-free admission of fuel contained in the fuel tanks of commercial motor vehicles'\",\n",
              " \"'EEC: Council Directive on the approximation of the rules of the Member States concerning the colouring matters authorized for use in foodstuffs intended for human consumption'\",\n",
              " \"'Council Directive 64/221/EEC of 25 February 1964 on the co-ordination of special measures concerning the movement and residence of foreign nationals which are justified on grounds of public policy\",\n",
              " \"'Council Directive 66/401/EEC of 14 June 1966 on the marketing of fodder plant seed  /* CODIFIED VERSION CF 374Y0608(02) */'\",\n",
              " \"'Council Directive 64/433/EEC of 26 June 1964 on health problems affecting intra-Community trade in fresh meat  /* CONSOLIDATED VERSION SEE 375Y0820(02) */'\",\n",
              " \"'Regulation (EEC) No 1017/68 of the Council of 19 July 1968 applying rules of competition to transport by rail\",\n",
              " \"'Regulation (EEC) No 2264/69 of the Commission of 13 November 1969 on applications for reimbursement of aid granted by Member States to organisations of fruit and vegetable producers'\",\n",
              " \"'Council Directive 68/193/EEC of 9 April 1968 on the marketing of material for the vegetative propagation of the vine'\",\n",
              " \"'First Council Directive 67/227/EEC of 11 April 1967 on the harmonisation of legislation of Member States concerning turnover taxes'\",\n",
              " \"'66/399/EEC: Council Decision of 14 June 1966 setting up a Standing Committee on Seeds and Propagating Material for Agriculture\",\n",
              " \"'63/266/EEC: Council Decision of 2 April 1963 laying down general principles for implementing a common vocational training policy'\",\n",
              " \"'Regulation (EEC) No 2146/68 of the Council of 20 December 1968 amending Regulation No 136/66/EEC on the establishment of a common organisation of the market in oils and fats'\",\n",
              " \"'Council Directive 69/169/EEC of 28 May 1969 on the harmonisation of provisions laid down by Law\",\n",
              " \"'EEC Council: Regulation No 1 determining the languages to be used by the European Economic Community'\"]"
            ]
          },
          "metadata": {
            "tags": []
          },
          "execution_count": 98
        }
      ]
    },
    {
      "cell_type": "code",
      "metadata": {
        "colab": {
          "base_uri": "https://localhost:8080/"
        },
        "id": "CwJ2lbzE0bsq",
        "outputId": "70fc371e-469e-4296-81b7-9c7d6049680a"
      },
      "source": [
        "#for french sentence\n",
        "find_same(\"d'une réglementation d'ensemble uniforme. Pour le Comité économique et social\", 20, 'fr')"
      ],
      "execution_count": 100,
      "outputs": [
        {
          "output_type": "execute_result",
          "data": {
            "text/plain": [
              "['\"Directive 65/469/CEE du Conseil',\n",
              " \"'Erste Richtlinie 68/151/EWG des Rates vom 9. März 1968 zur Koordinierung der Schutzbestimmungen\",\n",
              " \"'Règlement (CEE) n° 1017/68 du Conseil\",\n",
              " '\"Directive 64/432/CEE du Conseil',\n",
              " '\"Règlement (CEE) n° 1191/69 du Conseil',\n",
              " '\"Règlement n° 136/66/CEE du Conseil',\n",
              " '\"Règlement (CEE) n° 2146/68 du Conseil',\n",
              " '\"Prima direttiva 68/151/CEE del Consiglio',\n",
              " \"'Règlement (CEE) n° 1192/69 du Conseil\",\n",
              " '\"68/416/CEE: Décision du Conseil',\n",
              " \"'Règlement n° 741/67/CEE du Conseil\",\n",
              " '\"Règlement n° 19/65/CEE du Conseil',\n",
              " '\"Directive 68/221/CEE du Conseil',\n",
              " \"'Directive 69/464/CEE du Conseil\",\n",
              " \"'Directive 63/474/CEE du Conseil\",\n",
              " '\"Règlement (CEE) n° 234/68 du Conseil',\n",
              " '\"Directive 70/358/CEE du Conseil',\n",
              " \"'Directive 69/63/CEE du Conseil\",\n",
              " \"'Directive 69/335/CEE du Conseil\",\n",
              " '\"Directive 64/225/CEE du Conseil']"
            ]
          },
          "metadata": {
            "tags": []
          },
          "execution_count": 100
        }
      ]
    },
    {
      "cell_type": "code",
      "metadata": {
        "colab": {
          "base_uri": "https://localhost:8080/"
        },
        "id": "6D6hfD7I3q3H",
        "outputId": "104093d7-4eec-4c23-b8e9-210c70de73e9"
      },
      "source": [
        "#for portuguese sentence\n",
        "find_same('após parecer da Comissão Paritária e tomando em consideração a competência', 20, 'pt')"
      ],
      "execution_count": 101,
      "outputs": [
        {
          "output_type": "execute_result",
          "data": {
            "text/plain": [
              "[\"'Regulamento (CEE) nº 1192/69 do Conselho\",\n",
              " \"'Directiva 70/156/CEE do Conselho\",\n",
              " \"'Directiva 70/221/CEE do Conselho\",\n",
              " \"'Regulamento (CEE) nº 1191/69 do Conselho\",\n",
              " \"'Directiva 67/548/CEE do Conselho\",\n",
              " \"'Regulamento (CEE) nº 1467/70 do Conselho\",\n",
              " \"'63/688/CEE: Estatuto do Comité consultivo para a formação profissional'\",\n",
              " \"'Decisão do Conselho\",\n",
              " \"'Regulamento (CEE) nº 234/68 do Conselho\",\n",
              " \"'Regulamento (CEE) nº 827/68 do Conselho\",\n",
              " \"'Directiva 70/388/CEE do Conselho\",\n",
              " \"'Directiva 69/169/CEE do Co nselho\",\n",
              " \"'Directiva 70/373/CEE do Conselho\",\n",
              " \"'64/350/CEE: Decisão do Conselho\",\n",
              " \"'Directiva 66/402/CEE do Conselho\",\n",
              " \"'Regulamento (CEE) nº 2602/69 do Conselho\",\n",
              " \"'63/266/CEE: Decisão do Conselho\",\n",
              " \"'Regulamento nº 49 do Conselho que altera a data de aplicação de determinados actos relativos à política agrícola comum'\",\n",
              " \"'Directiva 70/387/CEE do Conselho\",\n",
              " \"'Regulamento nº 19/65/CEE do Conselho\"]"
            ]
          },
          "metadata": {
            "tags": []
          },
          "execution_count": 101
        }
      ]
    },
    {
      "cell_type": "code",
      "metadata": {
        "colab": {
          "base_uri": "https://localhost:8080/"
        },
        "id": "OvR0d3dy3xL3",
        "outputId": "d3edc58b-f46d-410c-cca6-c5e120c59ced"
      },
      "source": [
        "#for italian sentence\n",
        "find_same('SU PROPOSTA DELLA COMMISSIONE', 20, 'it')"
      ],
      "execution_count": 102,
      "outputs": [
        {
          "output_type": "execute_result",
          "data": {
            "text/plain": [
              "['\"Regolamento n. 474/67/CEE della Commissione',\n",
              " '\"Direttiva 64/221/CEE del Consiglio del 25 febbraio 1964 per il coordinamento dei provvedimenti speciali riguardanti il trasferimento e il soggiorno degli stranieri',\n",
              " '\"Decisione relativa all\\'istituzione della «Gazzetta Ufficiale delle Comunità europee»\"',\n",
              " '\"Regolamento n. 6/66/Euratom',\n",
              " \"'Regolamento (CEE) n. 2264/69 della Commissione\",\n",
              " '\"Direttiva 64/475/CEE del Consiglio',\n",
              " '\"Regolamento n. 136/66/CEE del Consiglio',\n",
              " \"'Direttiva 64/432/CEE del Consiglio\",\n",
              " \"'Regolamento (CEE) n. 316/68 del Consiglio\",\n",
              " \"'Regolamento (CEE) n. 315/68 del Consiglio\",\n",
              " '\"Direttiva 67/653/CEE del Consiglio',\n",
              " '\"Direttiva 68/360/CEE del Consiglio',\n",
              " '\"DECISIONE relativa all\\'istituzione della «Gazzetta Ufficiale delle Comunità Europee»\"',\n",
              " '\"CEE Consiglio: Regolamento n. 26 relativo all\\'applicazione di alcune regole di concorrenza alla produzione e al commercio dei prodotti agricoli\"',\n",
              " \"'63/688/CEE: Statuto del Comitato consultivo per la formazione professionale'\",\n",
              " '\"63/266/CEE: Decisione del Consiglio del 2 aprile 1963 relativa alla determinazione dei principi generali per l\\'attuazione di una politica comune di formazione professionale\"',\n",
              " \"'Regolamento (CEE\",\n",
              " \"'Direttiva 70/388/CEE del Consiglio del 27 luglio 1970 per il ravvicinamento delle legislazioni degli Stati Membri relative al segnalatore acustico dei veicoli a motore'\",\n",
              " \"'Direttiva 64/433/CEE del Consiglio\",\n",
              " '\"Prima direttiva 67/227/CEE del Consiglio']"
            ]
          },
          "metadata": {
            "tags": []
          },
          "execution_count": 102
        }
      ]
    },
    {
      "cell_type": "code",
      "metadata": {
        "colab": {
          "base_uri": "https://localhost:8080/"
        },
        "id": "ujkREbB1344m",
        "outputId": "f34fed16-7bae-40ca-d47c-8378bbf87732"
      },
      "source": [
        "#for spanish sentence\n",
        "find_same(' visto el Reglamento n º 15 del Consejo', 20, 'es')"
      ],
      "execution_count": 103,
      "outputs": [
        {
          "output_type": "execute_result",
          "data": {
            "text/plain": [
              "[\"'Reglamento (CEE) nº 1017/68 del Consejo\",\n",
              " \"'Reglamento (CEE) nº 1467/70 del Consejo\",\n",
              " \"'Primera Directiva del Consejo\",\n",
              " \"'Directiva 67/653/CEE del Consejo\",\n",
              " \"'66/399/CEE: Decisión del Consejo\",\n",
              " \"'Reglamento (CEE) nº 234/68 del Consejo\",\n",
              " \"'Reglamento n° 19/65/CEE del Consejo\",\n",
              " \"'Directiva 69/335/CEE del Consejo\",\n",
              " \"'Directiva 70/220/CEE del Consejo\",\n",
              " \"'Directiva 68/221/CEE del Consejo\",\n",
              " \"'Directiva 69/63/CEE del Consejo\",\n",
              " \"'Directiva 68/89/CEE del Consejo\",\n",
              " \"'Reglamento nº 7/63/Euratom del Consejo\",\n",
              " \"'Reglamento nº3 relativo a la aplicación del artículo 24 del Tratado constitutivo de la Comunidad Europea de la Energía Atómica'\",\n",
              " \"'Reglamento (Euratom\",\n",
              " \"'Reglamento (CEE) n° 1253/70 del Consejo\",\n",
              " \"'Reglamento (CEE) n° 448/69 del Consejo\",\n",
              " \"'Directiva 65/469/CEE del Consejo\",\n",
              " \"'Directiva 64/433/CEE del Consejo\",\n",
              " \"'Reglamento (CEE) n° 2146/68 del Consejo\"]"
            ]
          },
          "metadata": {
            "tags": []
          },
          "execution_count": 103
        }
      ]
    },
    {
      "cell_type": "code",
      "metadata": {
        "colab": {
          "base_uri": "https://localhost:8080/"
        },
        "id": "ieDoeien3_Er",
        "outputId": "f001cac6-faa1-4e5a-99a9-c74dcbe92a5a"
      },
      "source": [
        "#for german sentence\n",
        "find_same(' Die zum Zeitpunkt des Inkrafttretens dieser Verordnung geltenden Geschäftsordnungen des Beratenden Ausschusses und des Fachausschusses werden weiter angewandt.', 20, 'de')"
      ],
      "execution_count": 104,
      "outputs": [
        {
          "output_type": "execute_result",
          "data": {
            "text/plain": [
              "[\"'Verordnung (EWG) Nr. 827/68 des Rates vom 28. Juni 1968 über die gemeinsame Marktorganisation für bestimmte in Anhang II des Vertrages aufgeführte Erzeugnisse'\",\n",
              " \"'Verordnung Nr. 7/63/Euratom des Rats vom 3. Dezember 1963 über die Geschäftsordnung des in Artikel 18 des Vertrages zur Gründung der Europäischen Atomgemeinschaft vorgesehenen Schiedsausschusses'\",\n",
              " \"'Verordnung (EWG) Nr. 1191/69 des Rates vom 26. Juni 1969 über das Vorgehen der Mitgliedstaaten bei mit dem Begriff des öffentlichen Dienstes verbundenen Verpflichtungen auf dem Gebiet des Eisenbahn-\",\n",
              " \"'Verordnung (EWG) Nr. 1017/68 des Rates vom 19. Juli 1968 über die Anwendung von Wettbewerbsregeln auf dem Gebiet des Eisenbahn-\",\n",
              " \"'Verordnung (EWG) Nr. 1192/69 des Rates vom 26. Juni 1969 über gemeinsame Regeln für die Normalisierung der Konten der Eisenbahnunternehmen'\",\n",
              " \"'63/688/EWG: Satzung des Beratenden Ausschusses für die Berufsausbildung'\",\n",
              " \"'EAG Rat: Richtlinie über den freien Zugang zu qualifizierten Beschäftigungen auf dem Kerngebiet'\",\n",
              " \"'Verordnung (EWG) Nr. 234/68 des Rates vom 27. Februar 1968 über die Errichtung einer gemeinsamen Marktorganisation für lebende Pflanzen und Waren des Blumenhandels'\",\n",
              " \"'Verordnung (EWG\",\n",
              " \"'Verordnung (EWG) Nr. 1612/68 des Rates vom 15. Oktober 1968 über die Freizügigkeit der Arbeitnehmer innerhalb der Gemeinschaft'\",\n",
              " \"'Verordnung (EWG) Nr. 538/70 der Kommission vom 23. März 1970 zur Änderung der Verordnung (EWG) Nr. 315/68 in bezug auf die Größe der Anemone coronaria'\",\n",
              " \"'Richtlinie 64/432/EWG des Rates vom 26. Juni 1964 zur Regelung viehseuchenrechtlicher Fragen beim innergemeinschaftlichen Handelsverkehr mit Rindern und Schweinen  /* KODIFIZIERTE FASSUNG CF 375Y0820(01) */'\",\n",
              " \"'Verordnung (EWG) Nr. 1397/68 der Kommission vom 6. September 1968 zur Änderung der Verordnung Nr. 474/67/EWG über die Vorausfestsetzung der Erstattung bei der Ausfuhr von Reis und Bruchreis'\",\n",
              " \"'Verordnung Nr. 1043/67/EWG der Kommission vom 22. Dezember 1967 über die Durchführungsbestimmungen zur Festsetzung der Grundquoten für Zucker'\",\n",
              " \"'Verordnung (EWG) Nr. 448/69 des Rates vom 11. März 1969 zur Änderung der Verordnung (EWG) Nr. 315/68 zur Festsetzung von Qualitätsnormen für Blumenbulben\",\n",
              " \"'Verordnung (EWG) Nr. 1467/70 des Rates vom 20. Juli 1970 zur Festlegung bestimmter Grundregeln für die Intervention auf dem Rohtabaksektor'\",\n",
              " \"'Verordnung Nr. 136/66/EWG des Rates vom 22. September 1966 über die Errichtung einer gemeinsamen Marktorganisation für Fette'\",\n",
              " \"'EAG Rat: Satzung der Euratom-Versorgungsagentur'\",\n",
              " \"'63/32/EWG: Beschluß des Rats vom 18. Dezember 1962 zur Bestimmung der Anstellungsbehörde für den Kontrollausschuß'\",\n",
              " \"'Richtlinie 64/433/EWG des Rates vom 26. Juni 1964 zur Regelung gesundheitlicher Fragen beim innergemeinschaftlichen Handelsverkehr mit frischem Fleisch  /* KODIFIZIERTE FASSUNG CF 375Y0820(02) */'\"]"
            ]
          },
          "metadata": {
            "tags": []
          },
          "execution_count": 104
        }
      ]
    },
    {
      "cell_type": "code",
      "metadata": {
        "colab": {
          "base_uri": "https://localhost:8080/"
        },
        "id": "h52lb58N4GZA",
        "outputId": "bcbc4d18-e26f-4582-aba9-f17d4642bd85"
      },
      "source": [
        "#for polish sentence\n",
        "find_same('po zasięgnięciu opinii Wspólnego Komitetu', 20, 'pl')"
      ],
      "execution_count": 105,
      "outputs": [
        {
          "output_type": "execute_result",
          "data": {
            "text/plain": [
              "[\"'JRC-ACQUIS 31969L0464 Polish'\",\n",
              " \"'JRC-ACQUIS 31968R1017 Polish'\",\n",
              " \"'JRC-ACQUIS 31963R0007 Polish'\",\n",
              " \"'JRC-ACQUIS 31970L0157 Polish'\",\n",
              " \"'JRC-ACQUIS 31962L2005 Polish'\",\n",
              " \"'JRC-ACQUIS 31963D0266 Polish'\",\n",
              " \"'JRC-ACQUIS 31958R0003(01) Polish'\",\n",
              " \"'JRC-ACQUIS 31962R0017 Polish'\",\n",
              " \"'JRC-ACQUIS 31964L0433 Polish'\",\n",
              " \"'JRC-ACQUIS 31969L0493 Polish'\",\n",
              " \"'JRC-ACQUIS 31965R0019 Polish'\",\n",
              " \"'JRC-ACQUIS 31966L0402 Polish'\",\n",
              " \"'JRC-ACQUIS 31963D0032 Polish'\",\n",
              " \"'JRC-ACQUIS 31966L0601 Polish'\",\n",
              " \"'JRC-ACQUIS 31967L0653 Polish'\",\n",
              " \"'JRC-ACQUIS 31968L0089 Polish'\",\n",
              " \"'JRC-ACQUIS 31962L2645 Polish'\",\n",
              " \"'JRC-ACQUIS 31962L0302 Polish'\",\n",
              " \"'JRC-ACQUIS 31965L0469 Polish'\",\n",
              " \"'JRC-ACQUIS 31967L0227 Polish'\"]"
            ]
          },
          "metadata": {
            "tags": []
          },
          "execution_count": 105
        }
      ]
    },
    {
      "cell_type": "code",
      "metadata": {
        "colab": {
          "base_uri": "https://localhost:8080/"
        },
        "id": "qdWrlKhf4MfM",
        "outputId": "bc2e0de9-ee2b-4dce-ea8a-2387529b917c"
      },
      "source": [
        "#for dutch sentence\n",
        "find_same(\"Voorzitter van het Economisch en Sociaal Comité\", 20, 'nl')"
      ],
      "execution_count": 106,
      "outputs": [
        {
          "output_type": "execute_result",
          "data": {
            "text/plain": [
              "[\"'Richtlijn 64/432/EEG van de Raad van 26 juni 1964 inzake veterinairrechtelijke vraagstukken op het gebied van het intracommunautaire handelsverkeer in runderen en varkens  /* GECODIFICEERDE VERSIE CF 375Y0820(01) */'\",\n",
              " \"'68/416/EEG: Beschikking van de Raad van 20 december 1968 betreffende het sluiten en uitvoeren van de speciale intergouvernementele overeenkomsten inzake de verplichting voor de Lid-Staten om minimumvoorraden ruwe aardolie en/of aardolieprodukten in opslag te houden'\",\n",
              " \"'Richtlijn 64/225/EEG van de Raad van 25 februari 1964 ter opheffing van de beperkingen van de vrijheid van vestiging en van het vrij verrichten van diensten\",\n",
              " \"'Verordening nr. 423/67/EEG\",\n",
              " \"'Richtlijn 68/414/EEG van de Raad van 20 december 1968 houdende verplichting voor de Lid-Staten van de E.E.G. om minimumvoorraden ruwe aardolie en/of aardolieprodukten in opslag te houden'\",\n",
              " \"'Verordening (EEG) nr. 1108/70 van de Raad van 4 juni 1970 betreffende de invoering van een boekhouding van de uitgaven voor de wegen voor het vervoer per spoor\",\n",
              " \"'Verordening (EEG) nr. 448/69 van de Raad van 11 maart 1969 tot wijziging van Verordening (EEG) nr. 315/68 houdende vaststelling van kwaliteitsnormen voor bloembollen en bloemknollen'\",\n",
              " \"'EEG Raad: Verordening Nr. 26 inzake de toepassing van bepaalde regels betreffende de mededinging op de voortbrenging van en de handel in landbouwprodukten'\",\n",
              " \"'Verordening (EEG) nr. 316/68 van de Raad van 12 maart 1968 houdende vaststelling van kwaliteitsnormen voor verse snijbloemen en vers snijgroen'\",\n",
              " \"'63/688/EEG: Statuut van het Raadgevend Comité voor de beroepsopleiding'\",\n",
              " \"'Verordening (EEG) nr. 2146/68 van de Raad van 20 december 1968 tot wijziging van Verordening nr. 136/66/EEG houdende de totstandbrenging van een gemeenschappelijke ordening der markten in de sector oliën en vetten'\",\n",
              " \"'EGA Raad: Richtlijn inzake de vrije toegang tot gekwalificeerde arbeid op het gebied van de kernenergie'\",\n",
              " \"'Verordening (EEG) nr. 784/68 van de Commissie van 26 juni 1968 betreffende de wijze van berekening van de c.i.f. -prijzen voor witte suiker en ruwe suiker'\",\n",
              " \"'Richtlijn 69/60/EEG van de Raad van 18 februari 1969 houdende wijziging van de Richtlijn van de Raad van 14 juni 1966 betreffende het in de handel brengen van zaaigranen'\",\n",
              " \"'EGA Raad: Verordening Nº3 ter toepassing van artikel 24 van het Verdrag tot oprichting van de Europese Gemeenschap voor Atoomenergie'\",\n",
              " \"'Verordening nr. 7/63/Euratom van de Raad van 3 december 1963 betreffende het reglement van de Arbitragecommissie bedoeld in artikel 18 van het Verdrag tot oprichting van de Europese Gemeenschap voor Atoomenergie'\",\n",
              " \"'Verordening (EEG) nr. 2264/69 van de Commissie van 13 november 1969 betreffende de verzoeken om vergoeding van de door de Lid-Staten aan de verenigingen van groenten- en fruittelers verleende steun'\",\n",
              " \"'Richtlijn 68/193/EEG van de Raad van 9 april 1968 betreffende het in de handel brengen van vegetatief teeltmateriaal voor wijnstokken'\",\n",
              " \"'Richtlijn 68/419/EEG van de Raad van 20 december 1968 houdende derde wijziging van de Richtlijn van de Raad betreffende de aanpassing van de wettelijke voorschriften van de Lid-Staten inzake kleurstoffen die kunnen worden gebruikt in voor menselijke voeding bestemde waren'\",\n",
              " \"'Verordening nr. 741/67/EEG van de Raad van 24 oktober 1967 betreffende de bijstand door het Europees Oriëntatie- en Garantiefonds voor de Landbouw\"]"
            ]
          },
          "metadata": {
            "tags": []
          },
          "execution_count": 106
        }
      ]
    },
    {
      "cell_type": "code",
      "metadata": {
        "id": "aqvJR3nY4R40"
      },
      "source": [
        ""
      ],
      "execution_count": null,
      "outputs": []
    }
  ]
}